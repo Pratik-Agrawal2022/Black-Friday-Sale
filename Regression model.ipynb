{
 "cells": [
  {
   "cell_type": "code",
   "execution_count": 1,
   "id": "890f7a71",
   "metadata": {},
   "outputs": [],
   "source": [
    "# import 'Pandas' \n",
    "import pandas as pd \n",
    "\n",
    "# import 'Numpy' \n",
    "import numpy as np\n",
    "\n",
    "# import subpackage of Matplotlib\n",
    "import matplotlib.pyplot as plt\n",
    "\n",
    "# import 'Seaborn' \n",
    "import seaborn as sns\n",
    "\n",
    "# to suppress warnings \n",
    "from warnings import filterwarnings\n",
    "filterwarnings('ignore')\n",
    "\n",
    "# display all columns of the dataframe\n",
    "pd.options.display.max_columns = None\n",
    "\n",
    "# display all rows of the dataframe\n",
    "pd.options.display.max_rows = None\n",
    " \n",
    "# to display the float values upto 6 decimal places     \n",
    "pd.options.display.float_format = '{:.6f}'.format\n",
    "\n",
    "# import train-test split \n",
    "from sklearn.model_selection import train_test_split\n",
    "\n",
    "# import various functions from statsmodels\n",
    "import statsmodels\n",
    "import statsmodels.api as sm\n",
    "\n",
    "# import 'stats'\n",
    "from scipy import stats\n",
    "\n",
    "# 'metrics' from sklearn is used for evaluating the model performance\n",
    "from sklearn.metrics import mean_squared_error\n",
    "from sklearn.metrics import mean_absolute_error\n",
    "\n",
    "\n",
    "# import function to perform linear regression\n",
    "from sklearn.linear_model import LinearRegression\n",
    "\n",
    "# import StandardScaler to perform scaling\n",
    "from sklearn.preprocessing import StandardScaler \n",
    "\n",
    "# import SGDRegressor from sklearn to perform linear regression with stochastic gradient descent\n",
    "from sklearn.linear_model import SGDRegressor\n",
    "\n",
    "# import function for ridge regression\n",
    "from sklearn.linear_model import Ridge\n",
    "\n",
    "# import function for lasso regression\n",
    "from sklearn.linear_model import Lasso\n",
    "\n",
    "# import function for elastic net regression\n",
    "from sklearn.linear_model import ElasticNet\n",
    "\n",
    "# import function to perform GridSearchCV\n",
    "from sklearn.model_selection import GridSearchCV\n",
    "\n",
    "from sklearn.tree import DecisionTreeRegressor"
   ]
  },
  {
   "cell_type": "code",
   "execution_count": 2,
   "id": "e10fea0b",
   "metadata": {},
   "outputs": [
    {
     "data": {
      "text/html": [
       "<div>\n",
       "<style scoped>\n",
       "    .dataframe tbody tr th:only-of-type {\n",
       "        vertical-align: middle;\n",
       "    }\n",
       "\n",
       "    .dataframe tbody tr th {\n",
       "        vertical-align: top;\n",
       "    }\n",
       "\n",
       "    .dataframe thead th {\n",
       "        text-align: right;\n",
       "    }\n",
       "</style>\n",
       "<table border=\"1\" class=\"dataframe\">\n",
       "  <thead>\n",
       "    <tr style=\"text-align: right;\">\n",
       "      <th></th>\n",
       "      <th>User_ID</th>\n",
       "      <th>Product_ID</th>\n",
       "      <th>Gender</th>\n",
       "      <th>Age</th>\n",
       "      <th>Occupation</th>\n",
       "      <th>City_Category</th>\n",
       "      <th>Stay_In_Current_City_Years</th>\n",
       "      <th>Marital_Status</th>\n",
       "      <th>Product_Category_1</th>\n",
       "      <th>Product_Category_2</th>\n",
       "      <th>Product_Category_3</th>\n",
       "      <th>Purchase</th>\n",
       "    </tr>\n",
       "  </thead>\n",
       "  <tbody>\n",
       "    <tr>\n",
       "      <th>0</th>\n",
       "      <td>1000001</td>\n",
       "      <td>P00069042</td>\n",
       "      <td>F</td>\n",
       "      <td>0-17</td>\n",
       "      <td>10</td>\n",
       "      <td>A</td>\n",
       "      <td>2</td>\n",
       "      <td>0</td>\n",
       "      <td>3</td>\n",
       "      <td>NaN</td>\n",
       "      <td>NaN</td>\n",
       "      <td>8370</td>\n",
       "    </tr>\n",
       "    <tr>\n",
       "      <th>1</th>\n",
       "      <td>1000001</td>\n",
       "      <td>P00248942</td>\n",
       "      <td>F</td>\n",
       "      <td>0-17</td>\n",
       "      <td>10</td>\n",
       "      <td>A</td>\n",
       "      <td>2</td>\n",
       "      <td>0</td>\n",
       "      <td>1</td>\n",
       "      <td>6.000000</td>\n",
       "      <td>14.000000</td>\n",
       "      <td>15200</td>\n",
       "    </tr>\n",
       "    <tr>\n",
       "      <th>2</th>\n",
       "      <td>1000001</td>\n",
       "      <td>P00087842</td>\n",
       "      <td>F</td>\n",
       "      <td>0-17</td>\n",
       "      <td>10</td>\n",
       "      <td>A</td>\n",
       "      <td>2</td>\n",
       "      <td>0</td>\n",
       "      <td>12</td>\n",
       "      <td>NaN</td>\n",
       "      <td>NaN</td>\n",
       "      <td>1422</td>\n",
       "    </tr>\n",
       "    <tr>\n",
       "      <th>3</th>\n",
       "      <td>1000001</td>\n",
       "      <td>P00085442</td>\n",
       "      <td>F</td>\n",
       "      <td>0-17</td>\n",
       "      <td>10</td>\n",
       "      <td>A</td>\n",
       "      <td>2</td>\n",
       "      <td>0</td>\n",
       "      <td>12</td>\n",
       "      <td>14.000000</td>\n",
       "      <td>NaN</td>\n",
       "      <td>1057</td>\n",
       "    </tr>\n",
       "    <tr>\n",
       "      <th>4</th>\n",
       "      <td>1000002</td>\n",
       "      <td>P00285442</td>\n",
       "      <td>M</td>\n",
       "      <td>55+</td>\n",
       "      <td>16</td>\n",
       "      <td>C</td>\n",
       "      <td>4+</td>\n",
       "      <td>0</td>\n",
       "      <td>8</td>\n",
       "      <td>NaN</td>\n",
       "      <td>NaN</td>\n",
       "      <td>7969</td>\n",
       "    </tr>\n",
       "  </tbody>\n",
       "</table>\n",
       "</div>"
      ],
      "text/plain": [
       "   User_ID Product_ID Gender   Age  Occupation City_Category  \\\n",
       "0  1000001  P00069042      F  0-17          10             A   \n",
       "1  1000001  P00248942      F  0-17          10             A   \n",
       "2  1000001  P00087842      F  0-17          10             A   \n",
       "3  1000001  P00085442      F  0-17          10             A   \n",
       "4  1000002  P00285442      M   55+          16             C   \n",
       "\n",
       "  Stay_In_Current_City_Years  Marital_Status  Product_Category_1  \\\n",
       "0                          2               0                   3   \n",
       "1                          2               0                   1   \n",
       "2                          2               0                  12   \n",
       "3                          2               0                  12   \n",
       "4                         4+               0                   8   \n",
       "\n",
       "   Product_Category_2  Product_Category_3  Purchase  \n",
       "0                 NaN                 NaN      8370  \n",
       "1            6.000000           14.000000     15200  \n",
       "2                 NaN                 NaN      1422  \n",
       "3           14.000000                 NaN      1057  \n",
       "4                 NaN                 NaN      7969  "
      ]
     },
     "execution_count": 2,
     "metadata": {},
     "output_type": "execute_result"
    }
   ],
   "source": [
    "df_sales = pd.read_csv('C:/Users/HP/GL_PRATIK/Capstone/dataset/train.csv')\n",
    "df_sales.head()"
   ]
  },
  {
   "cell_type": "code",
   "execution_count": 3,
   "id": "d307c0b6",
   "metadata": {},
   "outputs": [
    {
     "data": {
      "text/plain": [
       "(550068, 12)"
      ]
     },
     "execution_count": 3,
     "metadata": {},
     "output_type": "execute_result"
    }
   ],
   "source": [
    "df_sales.shape"
   ]
  },
  {
   "cell_type": "code",
   "execution_count": 4,
   "id": "78d087e1",
   "metadata": {},
   "outputs": [
    {
     "name": "stdout",
     "output_type": "stream",
     "text": [
      "<class 'pandas.core.frame.DataFrame'>\n",
      "RangeIndex: 550068 entries, 0 to 550067\n",
      "Data columns (total 12 columns):\n",
      " #   Column                      Non-Null Count   Dtype  \n",
      "---  ------                      --------------   -----  \n",
      " 0   User_ID                     550068 non-null  int64  \n",
      " 1   Product_ID                  550068 non-null  object \n",
      " 2   Gender                      550068 non-null  object \n",
      " 3   Age                         550068 non-null  object \n",
      " 4   Occupation                  550068 non-null  int64  \n",
      " 5   City_Category               550068 non-null  object \n",
      " 6   Stay_In_Current_City_Years  550068 non-null  object \n",
      " 7   Marital_Status              550068 non-null  int64  \n",
      " 8   Product_Category_1          550068 non-null  int64  \n",
      " 9   Product_Category_2          376430 non-null  float64\n",
      " 10  Product_Category_3          166821 non-null  float64\n",
      " 11  Purchase                    550068 non-null  int64  \n",
      "dtypes: float64(2), int64(5), object(5)\n",
      "memory usage: 50.4+ MB\n"
     ]
    }
   ],
   "source": [
    "df_sales.info()"
   ]
  },
  {
   "cell_type": "code",
   "execution_count": 5,
   "id": "441e3a32",
   "metadata": {},
   "outputs": [],
   "source": [
    "df_sales['User_ID'] = df_sales['User_ID'].astype('object')\n",
    "df_sales['Occupation'] = df_sales['Occupation'].astype('object')\n",
    "df_sales['Marital_Status'] = df_sales['Marital_Status'].astype('object')\n",
    "df_sales['Product_Category_1'] = df_sales['Product_Category_1'].astype('object')\n",
    "df_sales['Product_Category_2'] = df_sales['Product_Category_2'].astype('object')\n",
    "df_sales['Product_Category_3'] = df_sales['Product_Category_3'].astype('object')"
   ]
  },
  {
   "cell_type": "markdown",
   "id": "ce2e7849",
   "metadata": {},
   "source": [
    "# Removing insignificant variables"
   ]
  },
  {
   "cell_type": "code",
   "execution_count": 6,
   "id": "cea42404",
   "metadata": {},
   "outputs": [],
   "source": [
    "df_sales = df_sales.drop(['User_ID','Product_ID'],axis=1)"
   ]
  },
  {
   "cell_type": "code",
   "execution_count": 7,
   "id": "f6e5dda4",
   "metadata": {},
   "outputs": [],
   "source": [
    "from scipy.stats import f_oneway"
   ]
  },
  {
   "cell_type": "code",
   "execution_count": 8,
   "id": "98ca62f0",
   "metadata": {},
   "outputs": [
    {
     "data": {
      "text/plain": [
       "Gender\n",
       "F    [8370, 15200, 1422, 1057, 5378, 2079, 13055, 8...\n",
       "M    [7969, 15227, 19215, 15854, 15686, 7871, 5254,...\n",
       "Name: Purchase, dtype: object"
      ]
     },
     "execution_count": 8,
     "metadata": {},
     "output_type": "execute_result"
    }
   ],
   "source": [
    "gender_list =df_sales.groupby('Gender')['Purchase'].apply(list)\n",
    "gender_list"
   ]
  },
  {
   "cell_type": "code",
   "execution_count": 9,
   "id": "42566507",
   "metadata": {},
   "outputs": [
    {
     "data": {
      "text/plain": [
       "F_onewayResult(statistic=2010.4424717228965, pvalue=0.0)"
      ]
     },
     "execution_count": 9,
     "metadata": {},
     "output_type": "execute_result"
    }
   ],
   "source": [
    "f_oneway(*gender_list)"
   ]
  },
  {
   "cell_type": "code",
   "execution_count": 10,
   "id": "54c89d06",
   "metadata": {},
   "outputs": [],
   "source": [
    "## p value is zero i.e. we reject the null hypothesis, i.e. gender is significant variable"
   ]
  },
  {
   "cell_type": "code",
   "execution_count": 11,
   "id": "10b3cf7e",
   "metadata": {},
   "outputs": [
    {
     "data": {
      "text/plain": [
       "F_onewayResult(statistic=40.57579909450407, pvalue=1.053563939251671e-49)"
      ]
     },
     "execution_count": 11,
     "metadata": {},
     "output_type": "execute_result"
    }
   ],
   "source": [
    "age_list = df_sales.groupby('Age')['Purchase'].apply(list)\n",
    "f_oneway(*age_list)"
   ]
  },
  {
   "cell_type": "code",
   "execution_count": 12,
   "id": "80d4ebf9",
   "metadata": {},
   "outputs": [],
   "source": [
    "## Pvalue is less than 0.05, so age is also the significant variable"
   ]
  },
  {
   "cell_type": "code",
   "execution_count": 13,
   "id": "5464db28",
   "metadata": {},
   "outputs": [
    {
     "data": {
      "text/plain": [
       "F_onewayResult(statistic=98.47377546928169, pvalue=0.0)"
      ]
     },
     "execution_count": 13,
     "metadata": {},
     "output_type": "execute_result"
    }
   ],
   "source": [
    "Occupation_list = df_sales.groupby('Occupation')['Purchase'].apply(list)\n",
    "f_oneway(*Occupation_list)"
   ]
  },
  {
   "cell_type": "code",
   "execution_count": 14,
   "id": "f3da5858",
   "metadata": {},
   "outputs": [],
   "source": [
    "## Pvalue is less than 0.05, so the occupation is also the significant feature"
   ]
  },
  {
   "cell_type": "code",
   "execution_count": 15,
   "id": "85e869c2",
   "metadata": {},
   "outputs": [
    {
     "data": {
      "text/plain": [
       "F_onewayResult(statistic=1130.7459610102974, pvalue=0.0)"
      ]
     },
     "execution_count": 15,
     "metadata": {},
     "output_type": "execute_result"
    }
   ],
   "source": [
    "City_list = df_sales.groupby('City_Category')['Purchase'].apply(list)\n",
    "f_oneway(*City_list)"
   ]
  },
  {
   "cell_type": "code",
   "execution_count": 16,
   "id": "617a07de",
   "metadata": {},
   "outputs": [],
   "source": [
    "## Pvalue is less than 0.05, so City Category is also significant feature"
   ]
  },
  {
   "cell_type": "code",
   "execution_count": 17,
   "id": "3ef4aaee",
   "metadata": {},
   "outputs": [
    {
     "data": {
      "text/plain": [
       "F_onewayResult(statistic=9.382655346642094, pvalue=1.4011435777855407e-07)"
      ]
     },
     "execution_count": 17,
     "metadata": {},
     "output_type": "execute_result"
    }
   ],
   "source": [
    "Stay_list = df_sales.groupby('Stay_In_Current_City_Years')['Purchase'].apply(list)\n",
    "f_oneway(*Stay_list)"
   ]
  },
  {
   "cell_type": "code",
   "execution_count": 18,
   "id": "2bdc67a3",
   "metadata": {},
   "outputs": [],
   "source": [
    "## Stay in current city years has pvalue less than 0.05, so it is significant"
   ]
  },
  {
   "cell_type": "code",
   "execution_count": 19,
   "id": "92c62a7b",
   "metadata": {},
   "outputs": [
    {
     "data": {
      "text/plain": [
       "F_onewayResult(statistic=0.11810893524268033, pvalue=0.7310947526475329)"
      ]
     },
     "execution_count": 19,
     "metadata": {},
     "output_type": "execute_result"
    }
   ],
   "source": [
    "Marital_list = df_sales.groupby('Marital_Status')['Purchase'].apply(list)\n",
    "f_oneway(*Marital_list)"
   ]
  },
  {
   "cell_type": "code",
   "execution_count": 20,
   "id": "db090633",
   "metadata": {},
   "outputs": [],
   "source": [
    "## It has pvalue greater than 0.05. So it is not significant feature"
   ]
  },
  {
   "cell_type": "code",
   "execution_count": 21,
   "id": "760eee4f",
   "metadata": {},
   "outputs": [
    {
     "data": {
      "text/plain": [
       "F_onewayResult(statistic=50703.97442053588, pvalue=0.0)"
      ]
     },
     "execution_count": 21,
     "metadata": {},
     "output_type": "execute_result"
    }
   ],
   "source": [
    "Product_1_list = df_sales.groupby('Product_Category_1')['Purchase'].apply(list)\n",
    "f_oneway(*Product_1_list)"
   ]
  },
  {
   "cell_type": "code",
   "execution_count": 22,
   "id": "45497fa4",
   "metadata": {},
   "outputs": [],
   "source": [
    "## Pvalue is less than 0.05, So it is significant"
   ]
  },
  {
   "cell_type": "code",
   "execution_count": 23,
   "id": "19abf348",
   "metadata": {},
   "outputs": [
    {
     "data": {
      "text/plain": [
       "F_onewayResult(statistic=3787.492550622429, pvalue=0.0)"
      ]
     },
     "execution_count": 23,
     "metadata": {},
     "output_type": "execute_result"
    }
   ],
   "source": [
    "Product_2_list = df_sales.groupby('Product_Category_2')['Purchase'].apply(list)\n",
    "f_oneway(*Product_2_list)"
   ]
  },
  {
   "cell_type": "code",
   "execution_count": 24,
   "id": "b55dc0a8",
   "metadata": {},
   "outputs": [],
   "source": [
    "## Pvalue is less than 0.05, So it is significant"
   ]
  },
  {
   "cell_type": "code",
   "execution_count": 25,
   "id": "e6f84ee7",
   "metadata": {},
   "outputs": [
    {
     "data": {
      "text/plain": [
       "F_onewayResult(statistic=674.4443183087945, pvalue=0.0)"
      ]
     },
     "execution_count": 25,
     "metadata": {},
     "output_type": "execute_result"
    }
   ],
   "source": [
    "Product_3_list = df_sales.groupby('Product_Category_3')['Purchase'].apply(list)\n",
    "f_oneway(*Product_3_list)"
   ]
  },
  {
   "cell_type": "code",
   "execution_count": 26,
   "id": "a0316c05",
   "metadata": {},
   "outputs": [],
   "source": [
    "## Pvalue is less than 0.05, So it is significant"
   ]
  },
  {
   "cell_type": "markdown",
   "id": "6f115eeb",
   "metadata": {},
   "source": [
    "# Outliers analysis and treatment "
   ]
  },
  {
   "cell_type": "code",
   "execution_count": 27,
   "id": "1fce11f9",
   "metadata": {
    "scrolled": false
   },
   "outputs": [
    {
     "data": {
      "image/png": "[encoded data removed]",
      "text/plain": [
       "<Figure size 1080x576 with 1 Axes>"
      ]
     },
     "metadata": {
      "needs_background": "light"
     },
     "output_type": "display_data"
    }
   ],
   "source": [
    "\n",
    "plt.figure(figsize = (15,8))\n",
    "\n",
    "\n",
    "df_sales.boxplot()\n",
    "\n",
    "\n",
    "plt.title('Distribution of all Numeric Variables', fontsize = 15)\n",
    "\n",
    "\n",
    "plt.xticks(rotation = 'vertical', fontsize = 15)\n",
    "\n",
    "plt.show()"
   ]
  },
  {
   "cell_type": "code",
   "execution_count": 28,
   "id": "a781c25e",
   "metadata": {},
   "outputs": [],
   "source": [
    "## As there is only one numerical column i.e. purchase which is the target variable \n",
    "## so the outlier can't be removed from this"
   ]
  },
  {
   "cell_type": "code",
   "execution_count": null,
   "id": "c70c321f",
   "metadata": {},
   "outputs": [],
   "source": []
  },
  {
   "cell_type": "markdown",
   "id": "b2ffe771",
   "metadata": {},
   "source": [
    "# Missing value Treatment"
   ]
  },
  {
   "cell_type": "code",
   "execution_count": 29,
   "id": "e1a80e4a",
   "metadata": {},
   "outputs": [
    {
     "data": {
      "text/html": [
       "<div>\n",
       "<style scoped>\n",
       "    .dataframe tbody tr th:only-of-type {\n",
       "        vertical-align: middle;\n",
       "    }\n",
       "\n",
       "    .dataframe tbody tr th {\n",
       "        vertical-align: top;\n",
       "    }\n",
       "\n",
       "    .dataframe thead th {\n",
       "        text-align: right;\n",
       "    }\n",
       "</style>\n",
       "<table border=\"1\" class=\"dataframe\">\n",
       "  <thead>\n",
       "    <tr style=\"text-align: right;\">\n",
       "      <th></th>\n",
       "      <th>Gender</th>\n",
       "      <th>Age</th>\n",
       "      <th>Occupation</th>\n",
       "      <th>City_Category</th>\n",
       "      <th>Stay_In_Current_City_Years</th>\n",
       "      <th>Marital_Status</th>\n",
       "      <th>Product_Category_1</th>\n",
       "      <th>Product_Category_2</th>\n",
       "      <th>Product_Category_3</th>\n",
       "      <th>Purchase</th>\n",
       "    </tr>\n",
       "  </thead>\n",
       "  <tbody>\n",
       "    <tr>\n",
       "      <th>0</th>\n",
       "      <td>F</td>\n",
       "      <td>0-17</td>\n",
       "      <td>10</td>\n",
       "      <td>A</td>\n",
       "      <td>2</td>\n",
       "      <td>0</td>\n",
       "      <td>3</td>\n",
       "      <td>NaN</td>\n",
       "      <td>NaN</td>\n",
       "      <td>8370</td>\n",
       "    </tr>\n",
       "    <tr>\n",
       "      <th>1</th>\n",
       "      <td>F</td>\n",
       "      <td>0-17</td>\n",
       "      <td>10</td>\n",
       "      <td>A</td>\n",
       "      <td>2</td>\n",
       "      <td>0</td>\n",
       "      <td>1</td>\n",
       "      <td>6.000000</td>\n",
       "      <td>14.000000</td>\n",
       "      <td>15200</td>\n",
       "    </tr>\n",
       "    <tr>\n",
       "      <th>2</th>\n",
       "      <td>F</td>\n",
       "      <td>0-17</td>\n",
       "      <td>10</td>\n",
       "      <td>A</td>\n",
       "      <td>2</td>\n",
       "      <td>0</td>\n",
       "      <td>12</td>\n",
       "      <td>NaN</td>\n",
       "      <td>NaN</td>\n",
       "      <td>1422</td>\n",
       "    </tr>\n",
       "    <tr>\n",
       "      <th>3</th>\n",
       "      <td>F</td>\n",
       "      <td>0-17</td>\n",
       "      <td>10</td>\n",
       "      <td>A</td>\n",
       "      <td>2</td>\n",
       "      <td>0</td>\n",
       "      <td>12</td>\n",
       "      <td>14.000000</td>\n",
       "      <td>NaN</td>\n",
       "      <td>1057</td>\n",
       "    </tr>\n",
       "    <tr>\n",
       "      <th>4</th>\n",
       "      <td>M</td>\n",
       "      <td>55+</td>\n",
       "      <td>16</td>\n",
       "      <td>C</td>\n",
       "      <td>4+</td>\n",
       "      <td>0</td>\n",
       "      <td>8</td>\n",
       "      <td>NaN</td>\n",
       "      <td>NaN</td>\n",
       "      <td>7969</td>\n",
       "    </tr>\n",
       "  </tbody>\n",
       "</table>\n",
       "</div>"
      ],
      "text/plain": [
       "  Gender   Age Occupation City_Category Stay_In_Current_City_Years  \\\n",
       "0      F  0-17         10             A                          2   \n",
       "1      F  0-17         10             A                          2   \n",
       "2      F  0-17         10             A                          2   \n",
       "3      F  0-17         10             A                          2   \n",
       "4      M   55+         16             C                         4+   \n",
       "\n",
       "  Marital_Status Product_Category_1 Product_Category_2 Product_Category_3  \\\n",
       "0              0                  3                NaN                NaN   \n",
       "1              0                  1           6.000000          14.000000   \n",
       "2              0                 12                NaN                NaN   \n",
       "3              0                 12          14.000000                NaN   \n",
       "4              0                  8                NaN                NaN   \n",
       "\n",
       "   Purchase  \n",
       "0      8370  \n",
       "1     15200  \n",
       "2      1422  \n",
       "3      1057  \n",
       "4      7969  "
      ]
     },
     "execution_count": 29,
     "metadata": {},
     "output_type": "execute_result"
    }
   ],
   "source": [
    "df_sales.head()"
   ]
  },
  {
   "cell_type": "code",
   "execution_count": 30,
   "id": "b7c79347",
   "metadata": {},
   "outputs": [
    {
     "name": "stdout",
     "output_type": "stream",
     "text": [
      "<class 'pandas.core.frame.DataFrame'>\n",
      "RangeIndex: 550068 entries, 0 to 550067\n",
      "Data columns (total 10 columns):\n",
      " #   Column                      Non-Null Count   Dtype \n",
      "---  ------                      --------------   ----- \n",
      " 0   Gender                      550068 non-null  object\n",
      " 1   Age                         550068 non-null  object\n",
      " 2   Occupation                  550068 non-null  object\n",
      " 3   City_Category               550068 non-null  object\n",
      " 4   Stay_In_Current_City_Years  550068 non-null  object\n",
      " 5   Marital_Status              550068 non-null  object\n",
      " 6   Product_Category_1          550068 non-null  object\n",
      " 7   Product_Category_2          376430 non-null  object\n",
      " 8   Product_Category_3          166821 non-null  object\n",
      " 9   Purchase                    550068 non-null  int64 \n",
      "dtypes: int64(1), object(9)\n",
      "memory usage: 42.0+ MB\n"
     ]
    }
   ],
   "source": [
    "df_sales.info()"
   ]
  },
  {
   "cell_type": "code",
   "execution_count": 31,
   "id": "75153c99",
   "metadata": {},
   "outputs": [
    {
     "data": {
      "text/plain": [
       "Gender                            0\n",
       "Age                               0\n",
       "Occupation                        0\n",
       "City_Category                     0\n",
       "Stay_In_Current_City_Years        0\n",
       "Marital_Status                    0\n",
       "Product_Category_1                0\n",
       "Product_Category_2             6598\n",
       "Product_Category_3            49236\n",
       "Purchase                          0\n",
       "dtype: int64"
      ]
     },
     "execution_count": 31,
     "metadata": {},
     "output_type": "execute_result"
    }
   ],
   "source": [
    "df_sales[df_sales['Product_Category_1']==1].isnull().sum()"
   ]
  },
  {
   "cell_type": "code",
   "execution_count": 32,
   "id": "f1d8188f",
   "metadata": {},
   "outputs": [
    {
     "data": {
      "text/plain": [
       "0   2.000000\n",
       "dtype: object"
      ]
     },
     "execution_count": 32,
     "metadata": {},
     "output_type": "execute_result"
    }
   ],
   "source": [
    "df_sales[df_sales['Product_Category_1']==1]['Product_Category_2'].mode()"
   ]
  },
  {
   "cell_type": "code",
   "execution_count": 33,
   "id": "95ac80aa",
   "metadata": {},
   "outputs": [
    {
     "data": {
      "text/plain": [
       "0   15.000000\n",
       "dtype: object"
      ]
     },
     "execution_count": 33,
     "metadata": {},
     "output_type": "execute_result"
    }
   ],
   "source": [
    "df_sales[df_sales['Product_Category_1']==1]['Product_Category_3'].mode()"
   ]
  },
  {
   "cell_type": "code",
   "execution_count": 34,
   "id": "7ce3251f",
   "metadata": {},
   "outputs": [],
   "source": [
    "df_sales.loc[(df_sales.Product_Category_1==1) & (df_sales.Product_Category_2.isna()), 'Product_Category_2'] = 2"
   ]
  },
  {
   "cell_type": "code",
   "execution_count": 35,
   "id": "5e9ddd3d",
   "metadata": {},
   "outputs": [
    {
     "data": {
      "text/plain": [
       "Gender                            0\n",
       "Age                               0\n",
       "Occupation                        0\n",
       "City_Category                     0\n",
       "Stay_In_Current_City_Years        0\n",
       "Marital_Status                    0\n",
       "Product_Category_1                0\n",
       "Product_Category_2                0\n",
       "Product_Category_3            49236\n",
       "Purchase                          0\n",
       "dtype: int64"
      ]
     },
     "execution_count": 35,
     "metadata": {},
     "output_type": "execute_result"
    }
   ],
   "source": [
    "df_sales[df_sales['Product_Category_1']==1].isnull().sum()"
   ]
  },
  {
   "cell_type": "code",
   "execution_count": 36,
   "id": "a099a27d",
   "metadata": {},
   "outputs": [
    {
     "data": {
      "text/plain": [
       "Gender                             0\n",
       "Age                                0\n",
       "Occupation                         0\n",
       "City_Category                      0\n",
       "Stay_In_Current_City_Years         0\n",
       "Marital_Status                     0\n",
       "Product_Category_1                 0\n",
       "Product_Category_2            167040\n",
       "Product_Category_3            383247\n",
       "Purchase                           0\n",
       "dtype: int64"
      ]
     },
     "execution_count": 36,
     "metadata": {},
     "output_type": "execute_result"
    }
   ],
   "source": [
    "df_sales.isnull().sum()"
   ]
  },
  {
   "cell_type": "code",
   "execution_count": 37,
   "id": "e32f940a",
   "metadata": {},
   "outputs": [],
   "source": [
    "df_sales.loc[(df_sales.Product_Category_1==1) & (df_sales.Product_Category_3.isna()), 'Product_Category_3'] = 15 "
   ]
  },
  {
   "cell_type": "code",
   "execution_count": 38,
   "id": "db2bad36",
   "metadata": {},
   "outputs": [
    {
     "data": {
      "text/plain": [
       "Gender                        0\n",
       "Age                           0\n",
       "Occupation                    0\n",
       "City_Category                 0\n",
       "Stay_In_Current_City_Years    0\n",
       "Marital_Status                0\n",
       "Product_Category_1            0\n",
       "Product_Category_2            0\n",
       "Product_Category_3            0\n",
       "Purchase                      0\n",
       "dtype: int64"
      ]
     },
     "execution_count": 38,
     "metadata": {},
     "output_type": "execute_result"
    }
   ],
   "source": [
    "df_sales[df_sales['Product_Category_1']==1].isnull().sum()"
   ]
  },
  {
   "cell_type": "code",
   "execution_count": 39,
   "id": "3a9e5ab2",
   "metadata": {},
   "outputs": [
    {
     "data": {
      "text/plain": [
       "Gender                             0\n",
       "Age                                0\n",
       "Occupation                         0\n",
       "City_Category                      0\n",
       "Stay_In_Current_City_Years         0\n",
       "Marital_Status                     0\n",
       "Product_Category_1                 0\n",
       "Product_Category_2            167040\n",
       "Product_Category_3            334011\n",
       "Purchase                           0\n",
       "dtype: int64"
      ]
     },
     "execution_count": 39,
     "metadata": {},
     "output_type": "execute_result"
    }
   ],
   "source": [
    "df_sales.isnull().sum()"
   ]
  },
  {
   "cell_type": "code",
   "execution_count": 40,
   "id": "125827f8",
   "metadata": {},
   "outputs": [],
   "source": [
    "## Product Category_1 == 2"
   ]
  },
  {
   "cell_type": "code",
   "execution_count": 41,
   "id": "dc8b76fd",
   "metadata": {},
   "outputs": [
    {
     "data": {
      "text/plain": [
       "Gender                           0\n",
       "Age                              0\n",
       "Occupation                       0\n",
       "City_Category                    0\n",
       "Stay_In_Current_City_Years       0\n",
       "Marital_Status                   0\n",
       "Product_Category_1               0\n",
       "Product_Category_2             930\n",
       "Product_Category_3            7555\n",
       "Purchase                         0\n",
       "dtype: int64"
      ]
     },
     "execution_count": 41,
     "metadata": {},
     "output_type": "execute_result"
    }
   ],
   "source": [
    "df_sales[df_sales['Product_Category_1']==2].isnull().sum()"
   ]
  },
  {
   "cell_type": "code",
   "execution_count": 42,
   "id": "a02cde3d",
   "metadata": {},
   "outputs": [
    {
     "data": {
      "text/plain": [
       "0   4.000000\n",
       "dtype: object"
      ]
     },
     "execution_count": 42,
     "metadata": {},
     "output_type": "execute_result"
    }
   ],
   "source": [
    "df_sales[df_sales['Product_Category_1']==2]['Product_Category_2'].mode()"
   ]
  },
  {
   "cell_type": "code",
   "execution_count": 43,
   "id": "f1ab7ba5",
   "metadata": {},
   "outputs": [
    {
     "data": {
      "text/plain": [
       "0   15.000000\n",
       "dtype: object"
      ]
     },
     "execution_count": 43,
     "metadata": {},
     "output_type": "execute_result"
    }
   ],
   "source": [
    "df_sales[df_sales['Product_Category_1']==2]['Product_Category_3'].mode()"
   ]
  },
  {
   "cell_type": "code",
   "execution_count": 44,
   "id": "9af40e63",
   "metadata": {},
   "outputs": [],
   "source": [
    "df_sales.loc[(df_sales.Product_Category_1==2) & (df_sales.Product_Category_2.isna()), 'Product_Category_2'] = 4"
   ]
  },
  {
   "cell_type": "code",
   "execution_count": 45,
   "id": "244e39fa",
   "metadata": {},
   "outputs": [],
   "source": [
    "df_sales.loc[(df_sales.Product_Category_1==2) & (df_sales.Product_Category_3.isna()), 'Product_Category_3'] = 15"
   ]
  },
  {
   "cell_type": "code",
   "execution_count": 46,
   "id": "c3ad4dbc",
   "metadata": {},
   "outputs": [
    {
     "data": {
      "text/plain": [
       "Gender                        0\n",
       "Age                           0\n",
       "Occupation                    0\n",
       "City_Category                 0\n",
       "Stay_In_Current_City_Years    0\n",
       "Marital_Status                0\n",
       "Product_Category_1            0\n",
       "Product_Category_2            0\n",
       "Product_Category_3            0\n",
       "Purchase                      0\n",
       "dtype: int64"
      ]
     },
     "execution_count": 46,
     "metadata": {},
     "output_type": "execute_result"
    }
   ],
   "source": [
    "df_sales[df_sales['Product_Category_1']==2].isnull().sum()"
   ]
  },
  {
   "cell_type": "code",
   "execution_count": 47,
   "id": "3b44030f",
   "metadata": {},
   "outputs": [
    {
     "data": {
      "text/plain": [
       "Gender                             0\n",
       "Age                                0\n",
       "Occupation                         0\n",
       "City_Category                      0\n",
       "Stay_In_Current_City_Years         0\n",
       "Marital_Status                     0\n",
       "Product_Category_1                 0\n",
       "Product_Category_2            166110\n",
       "Product_Category_3            326456\n",
       "Purchase                           0\n",
       "dtype: int64"
      ]
     },
     "execution_count": 47,
     "metadata": {},
     "output_type": "execute_result"
    }
   ],
   "source": [
    "df_sales.isnull().sum()"
   ]
  },
  {
   "cell_type": "code",
   "execution_count": 48,
   "id": "ba8cb9de",
   "metadata": {},
   "outputs": [
    {
     "data": {
      "text/plain": [
       "Gender                           0\n",
       "Age                              0\n",
       "Occupation                       0\n",
       "City_Category                    0\n",
       "Stay_In_Current_City_Years       0\n",
       "Marital_Status                   0\n",
       "Product_Category_1               0\n",
       "Product_Category_2             239\n",
       "Product_Category_3            7751\n",
       "Purchase                         0\n",
       "dtype: int64"
      ]
     },
     "execution_count": 48,
     "metadata": {},
     "output_type": "execute_result"
    }
   ],
   "source": [
    "df_sales[df_sales['Product_Category_1']==3].isnull().sum()"
   ]
  },
  {
   "cell_type": "code",
   "execution_count": 49,
   "id": "58784919",
   "metadata": {},
   "outputs": [
    {
     "data": {
      "text/plain": [
       "0   4.000000\n",
       "dtype: object"
      ]
     },
     "execution_count": 49,
     "metadata": {},
     "output_type": "execute_result"
    }
   ],
   "source": [
    "df_sales[df_sales['Product_Category_1']==3]['Product_Category_2'].mode()"
   ]
  },
  {
   "cell_type": "code",
   "execution_count": 50,
   "id": "bd6c8376",
   "metadata": {},
   "outputs": [
    {
     "data": {
      "text/plain": [
       "0   5.000000\n",
       "dtype: object"
      ]
     },
     "execution_count": 50,
     "metadata": {},
     "output_type": "execute_result"
    }
   ],
   "source": [
    "df_sales[df_sales['Product_Category_1']==3]['Product_Category_3'].mode()"
   ]
  },
  {
   "cell_type": "code",
   "execution_count": 51,
   "id": "3fdaf432",
   "metadata": {},
   "outputs": [],
   "source": [
    "df_sales.loc[(df_sales.Product_Category_1==3) & (df_sales.Product_Category_2.isna()), 'Product_Category_2'] = 4\n",
    "df_sales.loc[(df_sales.Product_Category_1==3) & (df_sales.Product_Category_3.isna()), 'Product_Category_3'] = 5"
   ]
  },
  {
   "cell_type": "code",
   "execution_count": 52,
   "id": "fc15b1b0",
   "metadata": {},
   "outputs": [
    {
     "data": {
      "text/plain": [
       "Gender                        0\n",
       "Age                           0\n",
       "Occupation                    0\n",
       "City_Category                 0\n",
       "Stay_In_Current_City_Years    0\n",
       "Marital_Status                0\n",
       "Product_Category_1            0\n",
       "Product_Category_2            0\n",
       "Product_Category_3            0\n",
       "Purchase                      0\n",
       "dtype: int64"
      ]
     },
     "execution_count": 52,
     "metadata": {},
     "output_type": "execute_result"
    }
   ],
   "source": [
    "df_sales[df_sales['Product_Category_1']==3].isnull().sum()"
   ]
  },
  {
   "cell_type": "code",
   "execution_count": null,
   "id": "228f6ebc",
   "metadata": {},
   "outputs": [],
   "source": []
  },
  {
   "cell_type": "code",
   "execution_count": 53,
   "id": "e4e0d0e4",
   "metadata": {},
   "outputs": [
    {
     "data": {
      "text/plain": [
       "Gender                           0\n",
       "Age                              0\n",
       "Occupation                       0\n",
       "City_Category                    0\n",
       "Stay_In_Current_City_Years       0\n",
       "Marital_Status                   0\n",
       "Product_Category_1               0\n",
       "Product_Category_2             143\n",
       "Product_Category_3            6404\n",
       "Purchase                         0\n",
       "dtype: int64"
      ]
     },
     "execution_count": 53,
     "metadata": {},
     "output_type": "execute_result"
    }
   ],
   "source": [
    "df_sales[df_sales['Product_Category_1']==4].isnull().sum()"
   ]
  },
  {
   "cell_type": "code",
   "execution_count": 54,
   "id": "a380fefd",
   "metadata": {},
   "outputs": [
    {
     "data": {
      "text/plain": [
       "0   5.000000\n",
       "dtype: object"
      ]
     },
     "execution_count": 54,
     "metadata": {},
     "output_type": "execute_result"
    }
   ],
   "source": [
    "df_sales[df_sales['Product_Category_1']==4]['Product_Category_2'].mode()"
   ]
  },
  {
   "cell_type": "code",
   "execution_count": 55,
   "id": "e427d39f",
   "metadata": {},
   "outputs": [
    {
     "data": {
      "text/plain": [
       "0   9.000000\n",
       "dtype: object"
      ]
     },
     "execution_count": 55,
     "metadata": {},
     "output_type": "execute_result"
    }
   ],
   "source": [
    "df_sales[df_sales['Product_Category_1']==4]['Product_Category_3'].mode()"
   ]
  },
  {
   "cell_type": "code",
   "execution_count": 56,
   "id": "ffd904b8",
   "metadata": {},
   "outputs": [],
   "source": [
    "df_sales.loc[(df_sales.Product_Category_1==4) & (df_sales.Product_Category_2.isna()), 'Product_Category_2'] = 5\n",
    "df_sales.loc[(df_sales.Product_Category_1==4) & (df_sales.Product_Category_3.isna()), 'Product_Category_3'] = 9"
   ]
  },
  {
   "cell_type": "code",
   "execution_count": 57,
   "id": "0a928204",
   "metadata": {},
   "outputs": [
    {
     "data": {
      "text/plain": [
       "Gender                        0\n",
       "Age                           0\n",
       "Occupation                    0\n",
       "City_Category                 0\n",
       "Stay_In_Current_City_Years    0\n",
       "Marital_Status                0\n",
       "Product_Category_1            0\n",
       "Product_Category_2            0\n",
       "Product_Category_3            0\n",
       "Purchase                      0\n",
       "dtype: int64"
      ]
     },
     "execution_count": 57,
     "metadata": {},
     "output_type": "execute_result"
    }
   ],
   "source": [
    "df_sales[df_sales['Product_Category_1']==4].isnull().sum()"
   ]
  },
  {
   "cell_type": "code",
   "execution_count": null,
   "id": "c47a4d3f",
   "metadata": {},
   "outputs": [],
   "source": []
  },
  {
   "cell_type": "code",
   "execution_count": 58,
   "id": "bd9191e8",
   "metadata": {},
   "outputs": [
    {
     "data": {
      "text/plain": [
       "Gender                             0\n",
       "Age                                0\n",
       "Occupation                         0\n",
       "City_Category                      0\n",
       "Stay_In_Current_City_Years         0\n",
       "Marital_Status                     0\n",
       "Product_Category_1                 0\n",
       "Product_Category_2             63700\n",
       "Product_Category_3            131922\n",
       "Purchase                           0\n",
       "dtype: int64"
      ]
     },
     "execution_count": 58,
     "metadata": {},
     "output_type": "execute_result"
    }
   ],
   "source": [
    "df_sales[df_sales['Product_Category_1']==5].isnull().sum()"
   ]
  },
  {
   "cell_type": "code",
   "execution_count": 59,
   "id": "0ef7549c",
   "metadata": {},
   "outputs": [
    {
     "data": {
      "text/plain": [
       "0   8.000000\n",
       "dtype: object"
      ]
     },
     "execution_count": 59,
     "metadata": {},
     "output_type": "execute_result"
    }
   ],
   "source": [
    "df_sales[df_sales['Product_Category_1']==5]['Product_Category_2'].mode()"
   ]
  },
  {
   "cell_type": "code",
   "execution_count": 60,
   "id": "f62af8fb",
   "metadata": {},
   "outputs": [
    {
     "data": {
      "text/plain": [
       "0   14.000000\n",
       "dtype: object"
      ]
     },
     "execution_count": 60,
     "metadata": {},
     "output_type": "execute_result"
    }
   ],
   "source": [
    "df_sales[df_sales['Product_Category_1']==5]['Product_Category_3'].mode()"
   ]
  },
  {
   "cell_type": "code",
   "execution_count": 61,
   "id": "1ddd083a",
   "metadata": {},
   "outputs": [],
   "source": [
    "df_sales.loc[(df_sales.Product_Category_1==5) & (df_sales.Product_Category_2.isna()), 'Product_Category_2'] = 8\n",
    "df_sales.loc[(df_sales.Product_Category_1==5) & (df_sales.Product_Category_3.isna()), 'Product_Category_3'] = 14"
   ]
  },
  {
   "cell_type": "code",
   "execution_count": 62,
   "id": "36124cba",
   "metadata": {},
   "outputs": [
    {
     "data": {
      "text/plain": [
       "Gender                        0\n",
       "Age                           0\n",
       "Occupation                    0\n",
       "City_Category                 0\n",
       "Stay_In_Current_City_Years    0\n",
       "Marital_Status                0\n",
       "Product_Category_1            0\n",
       "Product_Category_2            0\n",
       "Product_Category_3            0\n",
       "Purchase                      0\n",
       "dtype: int64"
      ]
     },
     "execution_count": 62,
     "metadata": {},
     "output_type": "execute_result"
    }
   ],
   "source": [
    "df_sales[df_sales['Product_Category_1']==5].isnull().sum()"
   ]
  },
  {
   "cell_type": "code",
   "execution_count": null,
   "id": "27e0f609",
   "metadata": {},
   "outputs": [],
   "source": []
  },
  {
   "cell_type": "code",
   "execution_count": 63,
   "id": "2b31a67e",
   "metadata": {},
   "outputs": [
    {
     "data": {
      "text/plain": [
       "Gender                            0\n",
       "Age                               0\n",
       "Occupation                        0\n",
       "City_Category                     0\n",
       "Stay_In_Current_City_Years        0\n",
       "Marital_Status                    0\n",
       "Product_Category_1                0\n",
       "Product_Category_2              993\n",
       "Product_Category_3            12068\n",
       "Purchase                          0\n",
       "dtype: int64"
      ]
     },
     "execution_count": 63,
     "metadata": {},
     "output_type": "execute_result"
    }
   ],
   "source": [
    "df_sales[df_sales['Product_Category_1']==6].isnull().sum()"
   ]
  },
  {
   "cell_type": "code",
   "execution_count": 64,
   "id": "f6d3b097",
   "metadata": {},
   "outputs": [
    {
     "data": {
      "text/plain": [
       "0   8.000000\n",
       "dtype: object"
      ]
     },
     "execution_count": 64,
     "metadata": {},
     "output_type": "execute_result"
    }
   ],
   "source": [
    "df_sales[df_sales['Product_Category_1']==6]['Product_Category_2'].mode()"
   ]
  },
  {
   "cell_type": "code",
   "execution_count": 65,
   "id": "f6f07eb5",
   "metadata": {},
   "outputs": [
    {
     "data": {
      "text/plain": [
       "0   16.000000\n",
       "dtype: object"
      ]
     },
     "execution_count": 65,
     "metadata": {},
     "output_type": "execute_result"
    }
   ],
   "source": [
    "df_sales[df_sales['Product_Category_1']==6]['Product_Category_3'].mode()"
   ]
  },
  {
   "cell_type": "code",
   "execution_count": 66,
   "id": "b52a138c",
   "metadata": {},
   "outputs": [],
   "source": [
    "df_sales.loc[(df_sales.Product_Category_1==6) & (df_sales.Product_Category_2.isna()), 'Product_Category_2'] = 8\n",
    "df_sales.loc[(df_sales.Product_Category_1==6) & (df_sales.Product_Category_3.isna()), 'Product_Category_3'] = 16"
   ]
  },
  {
   "cell_type": "code",
   "execution_count": 67,
   "id": "08239aef",
   "metadata": {},
   "outputs": [
    {
     "data": {
      "text/plain": [
       "Gender                        0\n",
       "Age                           0\n",
       "Occupation                    0\n",
       "City_Category                 0\n",
       "Stay_In_Current_City_Years    0\n",
       "Marital_Status                0\n",
       "Product_Category_1            0\n",
       "Product_Category_2            0\n",
       "Product_Category_3            0\n",
       "Purchase                      0\n",
       "dtype: int64"
      ]
     },
     "execution_count": 67,
     "metadata": {},
     "output_type": "execute_result"
    }
   ],
   "source": [
    "df_sales[df_sales['Product_Category_1']==6].isnull().sum()"
   ]
  },
  {
   "cell_type": "code",
   "execution_count": null,
   "id": "5b840dad",
   "metadata": {},
   "outputs": [],
   "source": []
  },
  {
   "cell_type": "code",
   "execution_count": 68,
   "id": "7ec49d12",
   "metadata": {},
   "outputs": [
    {
     "data": {
      "text/plain": [
       "Gender                           0\n",
       "Age                              0\n",
       "Occupation                       0\n",
       "City_Category                    0\n",
       "Stay_In_Current_City_Years       0\n",
       "Marital_Status                   0\n",
       "Product_Category_1               0\n",
       "Product_Category_2            3421\n",
       "Product_Category_3            3721\n",
       "Purchase                         0\n",
       "dtype: int64"
      ]
     },
     "execution_count": 68,
     "metadata": {},
     "output_type": "execute_result"
    }
   ],
   "source": [
    "df_sales[df_sales['Product_Category_1']==7].isnull().sum()"
   ]
  },
  {
   "cell_type": "code",
   "execution_count": 69,
   "id": "a3afdec4",
   "metadata": {},
   "outputs": [
    {
     "data": {
      "text/plain": [
       "0   12.000000\n",
       "dtype: object"
      ]
     },
     "execution_count": 69,
     "metadata": {},
     "output_type": "execute_result"
    }
   ],
   "source": [
    "df_sales[df_sales['Product_Category_1']==7]['Product_Category_2'].mode()"
   ]
  },
  {
   "cell_type": "code",
   "execution_count": 70,
   "id": "1829507d",
   "metadata": {},
   "outputs": [
    {
     "data": {
      "text/plain": [
       "Series([], dtype: object)"
      ]
     },
     "execution_count": 70,
     "metadata": {},
     "output_type": "execute_result"
    }
   ],
   "source": [
    "df_sales[df_sales['Product_Category_1']==7]['Product_Category_3'].mode()"
   ]
  },
  {
   "cell_type": "code",
   "execution_count": 71,
   "id": "be89233f",
   "metadata": {},
   "outputs": [],
   "source": [
    "df_sales.loc[(df_sales.Product_Category_1==7) & (df_sales.Product_Category_2.isna()), 'Product_Category_2'] = 12\n",
    "df_sales.loc[(df_sales.Product_Category_1==7) & (df_sales.Product_Category_3.isna()), 'Product_Category_3'] = 0"
   ]
  },
  {
   "cell_type": "code",
   "execution_count": 72,
   "id": "456dd9e3",
   "metadata": {},
   "outputs": [
    {
     "data": {
      "text/plain": [
       "Gender                        0\n",
       "Age                           0\n",
       "Occupation                    0\n",
       "City_Category                 0\n",
       "Stay_In_Current_City_Years    0\n",
       "Marital_Status                0\n",
       "Product_Category_1            0\n",
       "Product_Category_2            0\n",
       "Product_Category_3            0\n",
       "Purchase                      0\n",
       "dtype: int64"
      ]
     },
     "execution_count": 72,
     "metadata": {},
     "output_type": "execute_result"
    }
   ],
   "source": [
    "df_sales[df_sales['Product_Category_1']==7].isnull().sum()"
   ]
  },
  {
   "cell_type": "code",
   "execution_count": null,
   "id": "a1405c7a",
   "metadata": {},
   "outputs": [],
   "source": []
  },
  {
   "cell_type": "code",
   "execution_count": 73,
   "id": "e3001dd5",
   "metadata": {},
   "outputs": [
    {
     "data": {
      "text/plain": [
       "Gender                             0\n",
       "Age                                0\n",
       "Occupation                         0\n",
       "City_Category                      0\n",
       "Stay_In_Current_City_Years         0\n",
       "Marital_Status                     0\n",
       "Product_Category_1                 0\n",
       "Product_Category_2             60760\n",
       "Product_Category_3            104857\n",
       "Purchase                           0\n",
       "dtype: int64"
      ]
     },
     "execution_count": 73,
     "metadata": {},
     "output_type": "execute_result"
    }
   ],
   "source": [
    "df_sales[df_sales['Product_Category_1']==8].isnull().sum()"
   ]
  },
  {
   "cell_type": "code",
   "execution_count": 74,
   "id": "d97de518",
   "metadata": {},
   "outputs": [
    {
     "data": {
      "text/plain": [
       "0   14.000000\n",
       "dtype: object"
      ]
     },
     "execution_count": 74,
     "metadata": {},
     "output_type": "execute_result"
    }
   ],
   "source": [
    "df_sales[df_sales['Product_Category_1']==8]['Product_Category_2'].mode()"
   ]
  },
  {
   "cell_type": "code",
   "execution_count": 75,
   "id": "b01c3a58",
   "metadata": {},
   "outputs": [
    {
     "data": {
      "text/plain": [
       "0   17.000000\n",
       "dtype: object"
      ]
     },
     "execution_count": 75,
     "metadata": {},
     "output_type": "execute_result"
    }
   ],
   "source": [
    "df_sales[df_sales['Product_Category_1']==8]['Product_Category_3'].mode()"
   ]
  },
  {
   "cell_type": "code",
   "execution_count": 76,
   "id": "a7609786",
   "metadata": {},
   "outputs": [],
   "source": [
    "df_sales.loc[(df_sales.Product_Category_1==8) & (df_sales.Product_Category_2.isna()), 'Product_Category_2'] = 14\n",
    "df_sales.loc[(df_sales.Product_Category_1==8) & (df_sales.Product_Category_3.isna()), 'Product_Category_3'] = 17"
   ]
  },
  {
   "cell_type": "code",
   "execution_count": 77,
   "id": "17514a49",
   "metadata": {},
   "outputs": [
    {
     "data": {
      "text/plain": [
       "Gender                        0\n",
       "Age                           0\n",
       "Occupation                    0\n",
       "City_Category                 0\n",
       "Stay_In_Current_City_Years    0\n",
       "Marital_Status                0\n",
       "Product_Category_1            0\n",
       "Product_Category_2            0\n",
       "Product_Category_3            0\n",
       "Purchase                      0\n",
       "dtype: int64"
      ]
     },
     "execution_count": 77,
     "metadata": {},
     "output_type": "execute_result"
    }
   ],
   "source": [
    "df_sales[df_sales['Product_Category_1']==8].isnull().sum()"
   ]
  },
  {
   "cell_type": "code",
   "execution_count": null,
   "id": "fe30f2c5",
   "metadata": {},
   "outputs": [],
   "source": []
  },
  {
   "cell_type": "code",
   "execution_count": 78,
   "id": "107c1ece",
   "metadata": {},
   "outputs": [
    {
     "data": {
      "text/plain": [
       "Gender                          0\n",
       "Age                             0\n",
       "Occupation                      0\n",
       "City_Category                   0\n",
       "Stay_In_Current_City_Years      0\n",
       "Marital_Status                  0\n",
       "Product_Category_1              0\n",
       "Product_Category_2              1\n",
       "Product_Category_3            410\n",
       "Purchase                        0\n",
       "dtype: int64"
      ]
     },
     "execution_count": 78,
     "metadata": {},
     "output_type": "execute_result"
    }
   ],
   "source": [
    "df_sales[df_sales['Product_Category_1']==9].isnull().sum()"
   ]
  },
  {
   "cell_type": "code",
   "execution_count": 79,
   "id": "230f2df0",
   "metadata": {},
   "outputs": [
    {
     "data": {
      "text/plain": [
       "0   15.000000\n",
       "dtype: object"
      ]
     },
     "execution_count": 79,
     "metadata": {},
     "output_type": "execute_result"
    }
   ],
   "source": [
    "df_sales[df_sales['Product_Category_1']==9]['Product_Category_2'].mode()"
   ]
  },
  {
   "cell_type": "code",
   "execution_count": 80,
   "id": "bd7860d2",
   "metadata": {},
   "outputs": [
    {
     "data": {
      "text/plain": [
       "Series([], dtype: object)"
      ]
     },
     "execution_count": 80,
     "metadata": {},
     "output_type": "execute_result"
    }
   ],
   "source": [
    "df_sales[df_sales['Product_Category_1']==9]['Product_Category_3'].mode()"
   ]
  },
  {
   "cell_type": "code",
   "execution_count": 81,
   "id": "987b779d",
   "metadata": {},
   "outputs": [],
   "source": [
    "df_sales.loc[(df_sales.Product_Category_1==9) & (df_sales.Product_Category_2.isna()), 'Product_Category_2'] = 15\n",
    "df_sales.loc[(df_sales.Product_Category_1==9) & (df_sales.Product_Category_3.isna()), 'Product_Category_3'] = 0"
   ]
  },
  {
   "cell_type": "code",
   "execution_count": 82,
   "id": "7cca79a7",
   "metadata": {},
   "outputs": [
    {
     "data": {
      "text/plain": [
       "Gender                        0\n",
       "Age                           0\n",
       "Occupation                    0\n",
       "City_Category                 0\n",
       "Stay_In_Current_City_Years    0\n",
       "Marital_Status                0\n",
       "Product_Category_1            0\n",
       "Product_Category_2            0\n",
       "Product_Category_3            0\n",
       "Purchase                      0\n",
       "dtype: int64"
      ]
     },
     "execution_count": 82,
     "metadata": {},
     "output_type": "execute_result"
    }
   ],
   "source": [
    "df_sales[df_sales['Product_Category_1']==9].isnull().sum()"
   ]
  },
  {
   "cell_type": "code",
   "execution_count": null,
   "id": "19a6482a",
   "metadata": {},
   "outputs": [],
   "source": []
  },
  {
   "cell_type": "code",
   "execution_count": 83,
   "id": "7c243d0c",
   "metadata": {},
   "outputs": [
    {
     "data": {
      "text/plain": [
       "Gender                           0\n",
       "Age                              0\n",
       "Occupation                       0\n",
       "City_Category                    0\n",
       "Stay_In_Current_City_Years       0\n",
       "Marital_Status                   0\n",
       "Product_Category_1               0\n",
       "Product_Category_2             456\n",
       "Product_Category_3            3370\n",
       "Purchase                         0\n",
       "dtype: int64"
      ]
     },
     "execution_count": 83,
     "metadata": {},
     "output_type": "execute_result"
    }
   ],
   "source": [
    "df_sales[df_sales['Product_Category_1']==10].isnull().sum()"
   ]
  },
  {
   "cell_type": "code",
   "execution_count": 84,
   "id": "a85f825a",
   "metadata": {},
   "outputs": [
    {
     "data": {
      "text/plain": [
       "0   13.000000\n",
       "dtype: object"
      ]
     },
     "execution_count": 84,
     "metadata": {},
     "output_type": "execute_result"
    }
   ],
   "source": [
    "df_sales[df_sales['Product_Category_1']==10]['Product_Category_2'].mode()"
   ]
  },
  {
   "cell_type": "code",
   "execution_count": 85,
   "id": "4291d076",
   "metadata": {},
   "outputs": [
    {
     "data": {
      "text/plain": [
       "0   16.000000\n",
       "dtype: object"
      ]
     },
     "execution_count": 85,
     "metadata": {},
     "output_type": "execute_result"
    }
   ],
   "source": [
    "df_sales[df_sales['Product_Category_1']==10]['Product_Category_3'].mode()"
   ]
  },
  {
   "cell_type": "code",
   "execution_count": 86,
   "id": "0ba81d84",
   "metadata": {},
   "outputs": [],
   "source": [
    "df_sales.loc[(df_sales.Product_Category_1==10) & (df_sales.Product_Category_2.isna()), 'Product_Category_2'] = 13\n",
    "df_sales.loc[(df_sales.Product_Category_1==10) & (df_sales.Product_Category_3.isna()), 'Product_Category_3'] = 16"
   ]
  },
  {
   "cell_type": "code",
   "execution_count": 87,
   "id": "4c7a2224",
   "metadata": {},
   "outputs": [
    {
     "data": {
      "text/plain": [
       "Gender                        0\n",
       "Age                           0\n",
       "Occupation                    0\n",
       "City_Category                 0\n",
       "Stay_In_Current_City_Years    0\n",
       "Marital_Status                0\n",
       "Product_Category_1            0\n",
       "Product_Category_2            0\n",
       "Product_Category_3            0\n",
       "Purchase                      0\n",
       "dtype: int64"
      ]
     },
     "execution_count": 87,
     "metadata": {},
     "output_type": "execute_result"
    }
   ],
   "source": [
    "df_sales[df_sales['Product_Category_1']==10].isnull().sum()"
   ]
  },
  {
   "cell_type": "code",
   "execution_count": null,
   "id": "05f084ba",
   "metadata": {},
   "outputs": [],
   "source": []
  },
  {
   "cell_type": "code",
   "execution_count": 88,
   "id": "263d314d",
   "metadata": {},
   "outputs": [
    {
     "data": {
      "text/plain": [
       "Gender                            0\n",
       "Age                               0\n",
       "Occupation                        0\n",
       "City_Category                     0\n",
       "Stay_In_Current_City_Years        0\n",
       "Marital_Status                    0\n",
       "Product_Category_1                0\n",
       "Product_Category_2            12371\n",
       "Product_Category_3            22326\n",
       "Purchase                          0\n",
       "dtype: int64"
      ]
     },
     "execution_count": 88,
     "metadata": {},
     "output_type": "execute_result"
    }
   ],
   "source": [
    "df_sales[df_sales['Product_Category_1']==11].isnull().sum()"
   ]
  },
  {
   "cell_type": "code",
   "execution_count": 89,
   "id": "1d24117c",
   "metadata": {},
   "outputs": [
    {
     "data": {
      "text/plain": [
       "0   15.000000\n",
       "dtype: object"
      ]
     },
     "execution_count": 89,
     "metadata": {},
     "output_type": "execute_result"
    }
   ],
   "source": [
    "df_sales[df_sales['Product_Category_1']==11]['Product_Category_2'].mode()"
   ]
  },
  {
   "cell_type": "code",
   "execution_count": 90,
   "id": "cacc0918",
   "metadata": {},
   "outputs": [
    {
     "data": {
      "text/plain": [
       "0   16.000000\n",
       "dtype: object"
      ]
     },
     "execution_count": 90,
     "metadata": {},
     "output_type": "execute_result"
    }
   ],
   "source": [
    "df_sales[df_sales['Product_Category_1']==11]['Product_Category_3'].mode()"
   ]
  },
  {
   "cell_type": "code",
   "execution_count": 91,
   "id": "4fc1b13b",
   "metadata": {},
   "outputs": [],
   "source": [
    "df_sales.loc[(df_sales.Product_Category_1==11) & (df_sales.Product_Category_2.isna()), 'Product_Category_2'] = 15\n",
    "df_sales.loc[(df_sales.Product_Category_1==11) & (df_sales.Product_Category_3.isna()), 'Product_Category_3'] = 16"
   ]
  },
  {
   "cell_type": "code",
   "execution_count": 92,
   "id": "6350478b",
   "metadata": {},
   "outputs": [
    {
     "data": {
      "text/plain": [
       "Gender                        0\n",
       "Age                           0\n",
       "Occupation                    0\n",
       "City_Category                 0\n",
       "Stay_In_Current_City_Years    0\n",
       "Marital_Status                0\n",
       "Product_Category_1            0\n",
       "Product_Category_2            0\n",
       "Product_Category_3            0\n",
       "Purchase                      0\n",
       "dtype: int64"
      ]
     },
     "execution_count": 92,
     "metadata": {},
     "output_type": "execute_result"
    }
   ],
   "source": [
    "df_sales[df_sales['Product_Category_1']==11].isnull().sum()"
   ]
  },
  {
   "cell_type": "code",
   "execution_count": null,
   "id": "cb86f7ee",
   "metadata": {},
   "outputs": [],
   "source": []
  },
  {
   "cell_type": "code",
   "execution_count": 93,
   "id": "d88fefe2",
   "metadata": {},
   "outputs": [
    {
     "data": {
      "text/plain": [
       "Gender                           0\n",
       "Age                              0\n",
       "Occupation                       0\n",
       "City_Category                    0\n",
       "Stay_In_Current_City_Years       0\n",
       "Marital_Status                   0\n",
       "Product_Category_1               0\n",
       "Product_Category_2            1777\n",
       "Product_Category_3            3788\n",
       "Purchase                         0\n",
       "dtype: int64"
      ]
     },
     "execution_count": 93,
     "metadata": {},
     "output_type": "execute_result"
    }
   ],
   "source": [
    "df_sales[df_sales['Product_Category_1']==12].isnull().sum()"
   ]
  },
  {
   "cell_type": "code",
   "execution_count": 94,
   "id": "94f17f1a",
   "metadata": {},
   "outputs": [
    {
     "data": {
      "text/plain": [
       "0   14.000000\n",
       "dtype: object"
      ]
     },
     "execution_count": 94,
     "metadata": {},
     "output_type": "execute_result"
    }
   ],
   "source": [
    "df_sales[df_sales['Product_Category_1']==12]['Product_Category_2'].mode()"
   ]
  },
  {
   "cell_type": "code",
   "execution_count": 95,
   "id": "7268baef",
   "metadata": {},
   "outputs": [
    {
     "data": {
      "text/plain": [
       "0   17.000000\n",
       "dtype: object"
      ]
     },
     "execution_count": 95,
     "metadata": {},
     "output_type": "execute_result"
    }
   ],
   "source": [
    "df_sales[df_sales['Product_Category_1']==12]['Product_Category_3'].mode()"
   ]
  },
  {
   "cell_type": "code",
   "execution_count": 96,
   "id": "39dd11b6",
   "metadata": {},
   "outputs": [],
   "source": [
    "df_sales.loc[(df_sales.Product_Category_1==12) & (df_sales.Product_Category_2.isna()), 'Product_Category_2'] = 14\n",
    "df_sales.loc[(df_sales.Product_Category_1==12) & (df_sales.Product_Category_3.isna()), 'Product_Category_3'] = 17"
   ]
  },
  {
   "cell_type": "code",
   "execution_count": 97,
   "id": "816df13a",
   "metadata": {},
   "outputs": [
    {
     "data": {
      "text/plain": [
       "Gender                        0\n",
       "Age                           0\n",
       "Occupation                    0\n",
       "City_Category                 0\n",
       "Stay_In_Current_City_Years    0\n",
       "Marital_Status                0\n",
       "Product_Category_1            0\n",
       "Product_Category_2            0\n",
       "Product_Category_3            0\n",
       "Purchase                      0\n",
       "dtype: int64"
      ]
     },
     "execution_count": 97,
     "metadata": {},
     "output_type": "execute_result"
    }
   ],
   "source": [
    "df_sales[df_sales['Product_Category_1']==12].isnull().sum()"
   ]
  },
  {
   "cell_type": "code",
   "execution_count": null,
   "id": "e5a24f3a",
   "metadata": {},
   "outputs": [],
   "source": []
  },
  {
   "cell_type": "code",
   "execution_count": 98,
   "id": "64dc5596",
   "metadata": {},
   "outputs": [
    {
     "data": {
      "text/plain": [
       "Gender                           0\n",
       "Age                              0\n",
       "Occupation                       0\n",
       "City_Category                    0\n",
       "Stay_In_Current_City_Years       0\n",
       "Marital_Status                   0\n",
       "Product_Category_1               0\n",
       "Product_Category_2             626\n",
       "Product_Category_3            4493\n",
       "Purchase                         0\n",
       "dtype: int64"
      ]
     },
     "execution_count": 98,
     "metadata": {},
     "output_type": "execute_result"
    }
   ],
   "source": [
    "df_sales[df_sales['Product_Category_1']==13].isnull().sum()"
   ]
  },
  {
   "cell_type": "code",
   "execution_count": 99,
   "id": "5ddbd9f2",
   "metadata": {},
   "outputs": [
    {
     "data": {
      "text/plain": [
       "0   16.000000\n",
       "dtype: object"
      ]
     },
     "execution_count": 99,
     "metadata": {},
     "output_type": "execute_result"
    }
   ],
   "source": [
    "df_sales[df_sales['Product_Category_1']==13]['Product_Category_2'].mode()"
   ]
  },
  {
   "cell_type": "code",
   "execution_count": 100,
   "id": "c614c473",
   "metadata": {},
   "outputs": [
    {
     "data": {
      "text/plain": [
       "0   16.000000\n",
       "dtype: object"
      ]
     },
     "execution_count": 100,
     "metadata": {},
     "output_type": "execute_result"
    }
   ],
   "source": [
    "df_sales[df_sales['Product_Category_1']==13]['Product_Category_3'].mode()"
   ]
  },
  {
   "cell_type": "code",
   "execution_count": 101,
   "id": "65a34e33",
   "metadata": {},
   "outputs": [],
   "source": [
    "df_sales.loc[(df_sales.Product_Category_1==13) & (df_sales.Product_Category_2.isna()), 'Product_Category_2'] = 16\n",
    "df_sales.loc[(df_sales.Product_Category_1==13) & (df_sales.Product_Category_3.isna()), 'Product_Category_3'] = 16"
   ]
  },
  {
   "cell_type": "code",
   "execution_count": 102,
   "id": "9697972d",
   "metadata": {},
   "outputs": [
    {
     "data": {
      "text/plain": [
       "Gender                        0\n",
       "Age                           0\n",
       "Occupation                    0\n",
       "City_Category                 0\n",
       "Stay_In_Current_City_Years    0\n",
       "Marital_Status                0\n",
       "Product_Category_1            0\n",
       "Product_Category_2            0\n",
       "Product_Category_3            0\n",
       "Purchase                      0\n",
       "dtype: int64"
      ]
     },
     "execution_count": 102,
     "metadata": {},
     "output_type": "execute_result"
    }
   ],
   "source": [
    "df_sales[df_sales['Product_Category_1']==13].isnull().sum()"
   ]
  },
  {
   "cell_type": "code",
   "execution_count": null,
   "id": "d48ffc55",
   "metadata": {},
   "outputs": [],
   "source": []
  },
  {
   "cell_type": "code",
   "execution_count": 103,
   "id": "218f4f97",
   "metadata": {},
   "outputs": [
    {
     "data": {
      "text/plain": [
       "Gender                           0\n",
       "Age                              0\n",
       "Occupation                       0\n",
       "City_Category                    0\n",
       "Stay_In_Current_City_Years       0\n",
       "Marital_Status                   0\n",
       "Product_Category_1               0\n",
       "Product_Category_2            1103\n",
       "Product_Category_3            1523\n",
       "Purchase                         0\n",
       "dtype: int64"
      ]
     },
     "execution_count": 103,
     "metadata": {},
     "output_type": "execute_result"
    }
   ],
   "source": [
    "df_sales[df_sales['Product_Category_1']==14].isnull().sum()"
   ]
  },
  {
   "cell_type": "code",
   "execution_count": 104,
   "id": "ea48ab0c",
   "metadata": {},
   "outputs": [
    {
     "data": {
      "text/plain": [
       "0   16.000000\n",
       "dtype: object"
      ]
     },
     "execution_count": 104,
     "metadata": {},
     "output_type": "execute_result"
    }
   ],
   "source": [
    "df_sales[df_sales['Product_Category_1']==14]['Product_Category_2'].mode()"
   ]
  },
  {
   "cell_type": "code",
   "execution_count": 105,
   "id": "7feda62a",
   "metadata": {},
   "outputs": [
    {
     "data": {
      "text/plain": [
       "Series([], dtype: object)"
      ]
     },
     "execution_count": 105,
     "metadata": {},
     "output_type": "execute_result"
    }
   ],
   "source": [
    "df_sales[df_sales['Product_Category_1']==14]['Product_Category_3'].mode()"
   ]
  },
  {
   "cell_type": "code",
   "execution_count": 106,
   "id": "1190ea8a",
   "metadata": {},
   "outputs": [],
   "source": [
    "df_sales.loc[(df_sales.Product_Category_1==14) & (df_sales.Product_Category_2.isna()), 'Product_Category_2'] = 16\n",
    "df_sales.loc[(df_sales.Product_Category_1==14) & (df_sales.Product_Category_3.isna()), 'Product_Category_3'] = 0"
   ]
  },
  {
   "cell_type": "code",
   "execution_count": 107,
   "id": "5868eb3d",
   "metadata": {},
   "outputs": [
    {
     "data": {
      "text/plain": [
       "Gender                        0\n",
       "Age                           0\n",
       "Occupation                    0\n",
       "City_Category                 0\n",
       "Stay_In_Current_City_Years    0\n",
       "Marital_Status                0\n",
       "Product_Category_1            0\n",
       "Product_Category_2            0\n",
       "Product_Category_3            0\n",
       "Purchase                      0\n",
       "dtype: int64"
      ]
     },
     "execution_count": 107,
     "metadata": {},
     "output_type": "execute_result"
    }
   ],
   "source": [
    "df_sales[df_sales['Product_Category_1']==14].isnull().sum()"
   ]
  },
  {
   "cell_type": "code",
   "execution_count": null,
   "id": "335815be",
   "metadata": {},
   "outputs": [],
   "source": []
  },
  {
   "cell_type": "code",
   "execution_count": 108,
   "id": "3cea1d2c",
   "metadata": {},
   "outputs": [
    {
     "data": {
      "text/plain": [
       "Gender                           0\n",
       "Age                              0\n",
       "Occupation                       0\n",
       "City_Category                    0\n",
       "Stay_In_Current_City_Years       0\n",
       "Marital_Status                   0\n",
       "Product_Category_1               0\n",
       "Product_Category_2            2836\n",
       "Product_Category_3            6139\n",
       "Purchase                         0\n",
       "dtype: int64"
      ]
     },
     "execution_count": 108,
     "metadata": {},
     "output_type": "execute_result"
    }
   ],
   "source": [
    "df_sales[df_sales['Product_Category_1']==15].isnull().sum()"
   ]
  },
  {
   "cell_type": "code",
   "execution_count": 109,
   "id": "cf68cfff",
   "metadata": {},
   "outputs": [
    {
     "data": {
      "text/plain": [
       "0   16.000000\n",
       "dtype: object"
      ]
     },
     "execution_count": 109,
     "metadata": {},
     "output_type": "execute_result"
    }
   ],
   "source": [
    "df_sales[df_sales['Product_Category_1']==15]['Product_Category_2'].mode()"
   ]
  },
  {
   "cell_type": "code",
   "execution_count": 110,
   "id": "27a9e0d9",
   "metadata": {},
   "outputs": [
    {
     "data": {
      "text/plain": [
       "0   17.000000\n",
       "dtype: object"
      ]
     },
     "execution_count": 110,
     "metadata": {},
     "output_type": "execute_result"
    }
   ],
   "source": [
    "df_sales[df_sales['Product_Category_1']==15]['Product_Category_3'].mode()"
   ]
  },
  {
   "cell_type": "code",
   "execution_count": 111,
   "id": "4ee0f907",
   "metadata": {},
   "outputs": [],
   "source": [
    "df_sales.loc[(df_sales.Product_Category_1==15) & (df_sales.Product_Category_2.isna()), 'Product_Category_2'] = 16\n",
    "df_sales.loc[(df_sales.Product_Category_1==15) & (df_sales.Product_Category_3.isna()), 'Product_Category_3'] = 17"
   ]
  },
  {
   "cell_type": "code",
   "execution_count": 112,
   "id": "6311451f",
   "metadata": {},
   "outputs": [
    {
     "data": {
      "text/plain": [
       "Gender                        0\n",
       "Age                           0\n",
       "Occupation                    0\n",
       "City_Category                 0\n",
       "Stay_In_Current_City_Years    0\n",
       "Marital_Status                0\n",
       "Product_Category_1            0\n",
       "Product_Category_2            0\n",
       "Product_Category_3            0\n",
       "Purchase                      0\n",
       "dtype: int64"
      ]
     },
     "execution_count": 112,
     "metadata": {},
     "output_type": "execute_result"
    }
   ],
   "source": [
    "df_sales[df_sales['Product_Category_1']==15].isnull().sum()"
   ]
  },
  {
   "cell_type": "code",
   "execution_count": null,
   "id": "e15cfff3",
   "metadata": {},
   "outputs": [],
   "source": []
  },
  {
   "cell_type": "code",
   "execution_count": 113,
   "id": "17a0223b",
   "metadata": {},
   "outputs": [
    {
     "data": {
      "text/plain": [
       "Gender                           0\n",
       "Age                              0\n",
       "Occupation                       0\n",
       "City_Category                    0\n",
       "Stay_In_Current_City_Years       0\n",
       "Marital_Status                   0\n",
       "Product_Category_1               0\n",
       "Product_Category_2            9828\n",
       "Product_Category_3            9828\n",
       "Purchase                         0\n",
       "dtype: int64"
      ]
     },
     "execution_count": 113,
     "metadata": {},
     "output_type": "execute_result"
    }
   ],
   "source": [
    "df_sales[df_sales['Product_Category_1']==16].isnull().sum()"
   ]
  },
  {
   "cell_type": "code",
   "execution_count": 114,
   "id": "d70ac4e3",
   "metadata": {},
   "outputs": [
    {
     "data": {
      "text/plain": [
       "Series([], dtype: object)"
      ]
     },
     "execution_count": 114,
     "metadata": {},
     "output_type": "execute_result"
    }
   ],
   "source": [
    "df_sales[df_sales['Product_Category_1']==16]['Product_Category_3'].mode()"
   ]
  },
  {
   "cell_type": "code",
   "execution_count": 115,
   "id": "b7335689",
   "metadata": {},
   "outputs": [
    {
     "data": {
      "text/plain": [
       "Series([], dtype: object)"
      ]
     },
     "execution_count": 115,
     "metadata": {},
     "output_type": "execute_result"
    }
   ],
   "source": [
    "df_sales[df_sales['Product_Category_1']==16]['Product_Category_2'].mode()"
   ]
  },
  {
   "cell_type": "code",
   "execution_count": 116,
   "id": "354bcbdc",
   "metadata": {},
   "outputs": [],
   "source": [
    "df_sales.loc[(df_sales.Product_Category_1==16) & (df_sales.Product_Category_3.isna()), 'Product_Category_3'] = 0"
   ]
  },
  {
   "cell_type": "code",
   "execution_count": 117,
   "id": "cc773a60",
   "metadata": {},
   "outputs": [],
   "source": [
    "df_sales.loc[(df_sales.Product_Category_1==16) & (df_sales.Product_Category_2.isna()), 'Product_Category_2'] = 0"
   ]
  },
  {
   "cell_type": "code",
   "execution_count": 118,
   "id": "8bc95d05",
   "metadata": {},
   "outputs": [
    {
     "data": {
      "text/plain": [
       "Gender                        0\n",
       "Age                           0\n",
       "Occupation                    0\n",
       "City_Category                 0\n",
       "Stay_In_Current_City_Years    0\n",
       "Marital_Status                0\n",
       "Product_Category_1            0\n",
       "Product_Category_2            0\n",
       "Product_Category_3            0\n",
       "Purchase                      0\n",
       "dtype: int64"
      ]
     },
     "execution_count": 118,
     "metadata": {},
     "output_type": "execute_result"
    }
   ],
   "source": [
    "df_sales[df_sales['Product_Category_1']==16].isnull().sum()"
   ]
  },
  {
   "cell_type": "code",
   "execution_count": null,
   "id": "ed8a67ea",
   "metadata": {},
   "outputs": [],
   "source": []
  },
  {
   "cell_type": "code",
   "execution_count": 119,
   "id": "e7d20ca6",
   "metadata": {},
   "outputs": [
    {
     "data": {
      "text/plain": [
       "Gender                          0\n",
       "Age                             0\n",
       "Occupation                      0\n",
       "City_Category                   0\n",
       "Stay_In_Current_City_Years      0\n",
       "Marital_Status                  0\n",
       "Product_Category_1              0\n",
       "Product_Category_2            578\n",
       "Product_Category_3            578\n",
       "Purchase                        0\n",
       "dtype: int64"
      ]
     },
     "execution_count": 119,
     "metadata": {},
     "output_type": "execute_result"
    }
   ],
   "source": [
    "df_sales[df_sales['Product_Category_1']==17].isnull().sum()"
   ]
  },
  {
   "cell_type": "code",
   "execution_count": 120,
   "id": "bfb24a28",
   "metadata": {},
   "outputs": [
    {
     "data": {
      "text/plain": [
       "Series([], dtype: object)"
      ]
     },
     "execution_count": 120,
     "metadata": {},
     "output_type": "execute_result"
    }
   ],
   "source": [
    "df_sales[df_sales['Product_Category_1']==17]['Product_Category_3'].mode()"
   ]
  },
  {
   "cell_type": "code",
   "execution_count": 121,
   "id": "ba6383c0",
   "metadata": {},
   "outputs": [
    {
     "data": {
      "text/plain": [
       "Series([], dtype: object)"
      ]
     },
     "execution_count": 121,
     "metadata": {},
     "output_type": "execute_result"
    }
   ],
   "source": [
    "df_sales[df_sales['Product_Category_1']==17]['Product_Category_2'].mode()"
   ]
  },
  {
   "cell_type": "code",
   "execution_count": 122,
   "id": "62b01a6d",
   "metadata": {},
   "outputs": [],
   "source": [
    "df_sales.loc[(df_sales.Product_Category_1==17) & (df_sales.Product_Category_3.isna()), 'Product_Category_3'] = 0"
   ]
  },
  {
   "cell_type": "code",
   "execution_count": 123,
   "id": "9bf3ed4c",
   "metadata": {},
   "outputs": [],
   "source": [
    "df_sales.loc[(df_sales.Product_Category_1==17) & (df_sales.Product_Category_2.isna()), 'Product_Category_2'] = 0"
   ]
  },
  {
   "cell_type": "code",
   "execution_count": 124,
   "id": "9e3b5549",
   "metadata": {},
   "outputs": [
    {
     "data": {
      "text/plain": [
       "Gender                        0\n",
       "Age                           0\n",
       "Occupation                    0\n",
       "City_Category                 0\n",
       "Stay_In_Current_City_Years    0\n",
       "Marital_Status                0\n",
       "Product_Category_1            0\n",
       "Product_Category_2            0\n",
       "Product_Category_3            0\n",
       "Purchase                      0\n",
       "dtype: int64"
      ]
     },
     "execution_count": 124,
     "metadata": {},
     "output_type": "execute_result"
    }
   ],
   "source": [
    "df_sales[df_sales['Product_Category_1']==17].isnull().sum()"
   ]
  },
  {
   "cell_type": "code",
   "execution_count": null,
   "id": "f01ee082",
   "metadata": {},
   "outputs": [],
   "source": []
  },
  {
   "cell_type": "code",
   "execution_count": 125,
   "id": "6b6e92f7",
   "metadata": {},
   "outputs": [
    {
     "data": {
      "text/plain": [
       "Gender                           0\n",
       "Age                              0\n",
       "Occupation                       0\n",
       "City_Category                    0\n",
       "Stay_In_Current_City_Years       0\n",
       "Marital_Status                   0\n",
       "Product_Category_1               0\n",
       "Product_Category_2            3125\n",
       "Product_Category_3            3125\n",
       "Purchase                         0\n",
       "dtype: int64"
      ]
     },
     "execution_count": 125,
     "metadata": {},
     "output_type": "execute_result"
    }
   ],
   "source": [
    "df_sales[df_sales['Product_Category_1']==18].isnull().sum()"
   ]
  },
  {
   "cell_type": "code",
   "execution_count": 126,
   "id": "1fff7464",
   "metadata": {},
   "outputs": [
    {
     "data": {
      "text/plain": [
       "Series([], dtype: object)"
      ]
     },
     "execution_count": 126,
     "metadata": {},
     "output_type": "execute_result"
    }
   ],
   "source": [
    "df_sales[df_sales['Product_Category_1']==18]['Product_Category_3'].mode()"
   ]
  },
  {
   "cell_type": "code",
   "execution_count": 127,
   "id": "2df0f5d2",
   "metadata": {},
   "outputs": [
    {
     "data": {
      "text/plain": [
       "Series([], dtype: object)"
      ]
     },
     "execution_count": 127,
     "metadata": {},
     "output_type": "execute_result"
    }
   ],
   "source": [
    "df_sales[df_sales['Product_Category_1']==18]['Product_Category_2'].mode()"
   ]
  },
  {
   "cell_type": "code",
   "execution_count": 128,
   "id": "685ccf5c",
   "metadata": {},
   "outputs": [],
   "source": [
    "df_sales.loc[(df_sales.Product_Category_1==18) & (df_sales.Product_Category_3.isna()), 'Product_Category_3'] = 0"
   ]
  },
  {
   "cell_type": "code",
   "execution_count": 129,
   "id": "60e1ef66",
   "metadata": {},
   "outputs": [],
   "source": [
    "df_sales.loc[(df_sales.Product_Category_1==18) & (df_sales.Product_Category_2.isna()), 'Product_Category_2'] = 0"
   ]
  },
  {
   "cell_type": "code",
   "execution_count": 130,
   "id": "37ca8f49",
   "metadata": {},
   "outputs": [
    {
     "data": {
      "text/plain": [
       "Gender                        0\n",
       "Age                           0\n",
       "Occupation                    0\n",
       "City_Category                 0\n",
       "Stay_In_Current_City_Years    0\n",
       "Marital_Status                0\n",
       "Product_Category_1            0\n",
       "Product_Category_2            0\n",
       "Product_Category_3            0\n",
       "Purchase                      0\n",
       "dtype: int64"
      ]
     },
     "execution_count": 130,
     "metadata": {},
     "output_type": "execute_result"
    }
   ],
   "source": [
    "df_sales[df_sales['Product_Category_1']==18].isnull().sum()"
   ]
  },
  {
   "cell_type": "code",
   "execution_count": null,
   "id": "123bd149",
   "metadata": {},
   "outputs": [],
   "source": []
  },
  {
   "cell_type": "code",
   "execution_count": null,
   "id": "8d5a5353",
   "metadata": {},
   "outputs": [],
   "source": []
  },
  {
   "cell_type": "code",
   "execution_count": 131,
   "id": "77b2dc95",
   "metadata": {},
   "outputs": [
    {
     "data": {
      "text/plain": [
       "Gender                           0\n",
       "Age                              0\n",
       "Occupation                       0\n",
       "City_Category                    0\n",
       "Stay_In_Current_City_Years       0\n",
       "Marital_Status                   0\n",
       "Product_Category_1               0\n",
       "Product_Category_2            1603\n",
       "Product_Category_3            1603\n",
       "Purchase                         0\n",
       "dtype: int64"
      ]
     },
     "execution_count": 131,
     "metadata": {},
     "output_type": "execute_result"
    }
   ],
   "source": [
    "df_sales[df_sales['Product_Category_1']==19].isnull().sum()"
   ]
  },
  {
   "cell_type": "code",
   "execution_count": 132,
   "id": "1a5fe745",
   "metadata": {},
   "outputs": [
    {
     "data": {
      "text/plain": [
       "Series([], dtype: object)"
      ]
     },
     "execution_count": 132,
     "metadata": {},
     "output_type": "execute_result"
    }
   ],
   "source": [
    "df_sales[df_sales['Product_Category_1']==19]['Product_Category_3'].mode()"
   ]
  },
  {
   "cell_type": "code",
   "execution_count": 133,
   "id": "eaf5b173",
   "metadata": {},
   "outputs": [
    {
     "data": {
      "text/plain": [
       "Series([], dtype: object)"
      ]
     },
     "execution_count": 133,
     "metadata": {},
     "output_type": "execute_result"
    }
   ],
   "source": [
    "df_sales[df_sales['Product_Category_1']==19]['Product_Category_2'].mode()"
   ]
  },
  {
   "cell_type": "code",
   "execution_count": 134,
   "id": "373a7dad",
   "metadata": {},
   "outputs": [],
   "source": [
    "df_sales.loc[(df_sales.Product_Category_1==19) & (df_sales.Product_Category_3.isna()), 'Product_Category_3'] = 0"
   ]
  },
  {
   "cell_type": "code",
   "execution_count": 135,
   "id": "4ff9e350",
   "metadata": {},
   "outputs": [],
   "source": [
    "df_sales.loc[(df_sales.Product_Category_1==19) & (df_sales.Product_Category_2.isna()), 'Product_Category_2'] = 0"
   ]
  },
  {
   "cell_type": "code",
   "execution_count": 136,
   "id": "225bd936",
   "metadata": {},
   "outputs": [
    {
     "data": {
      "text/plain": [
       "Gender                        0\n",
       "Age                           0\n",
       "Occupation                    0\n",
       "City_Category                 0\n",
       "Stay_In_Current_City_Years    0\n",
       "Marital_Status                0\n",
       "Product_Category_1            0\n",
       "Product_Category_2            0\n",
       "Product_Category_3            0\n",
       "Purchase                      0\n",
       "dtype: int64"
      ]
     },
     "execution_count": 136,
     "metadata": {},
     "output_type": "execute_result"
    }
   ],
   "source": [
    "df_sales[df_sales['Product_Category_1']==19].isnull().sum()"
   ]
  },
  {
   "cell_type": "code",
   "execution_count": null,
   "id": "4fd31ee7",
   "metadata": {},
   "outputs": [],
   "source": []
  },
  {
   "cell_type": "code",
   "execution_count": null,
   "id": "8f5901b5",
   "metadata": {},
   "outputs": [],
   "source": []
  },
  {
   "cell_type": "code",
   "execution_count": 137,
   "id": "9b65e3ac",
   "metadata": {},
   "outputs": [
    {
     "data": {
      "text/plain": [
       "Gender                           0\n",
       "Age                              0\n",
       "Occupation                       0\n",
       "City_Category                    0\n",
       "Stay_In_Current_City_Years       0\n",
       "Marital_Status                   0\n",
       "Product_Category_1               0\n",
       "Product_Category_2            2550\n",
       "Product_Category_3            2550\n",
       "Purchase                         0\n",
       "dtype: int64"
      ]
     },
     "execution_count": 137,
     "metadata": {},
     "output_type": "execute_result"
    }
   ],
   "source": [
    "df_sales[df_sales['Product_Category_1']==20].isnull().sum()"
   ]
  },
  {
   "cell_type": "code",
   "execution_count": 138,
   "id": "b57e8618",
   "metadata": {},
   "outputs": [
    {
     "data": {
      "text/plain": [
       "Series([], dtype: object)"
      ]
     },
     "execution_count": 138,
     "metadata": {},
     "output_type": "execute_result"
    }
   ],
   "source": [
    "df_sales[df_sales['Product_Category_1']==20]['Product_Category_3'].mode()"
   ]
  },
  {
   "cell_type": "code",
   "execution_count": 139,
   "id": "07c98098",
   "metadata": {},
   "outputs": [
    {
     "data": {
      "text/plain": [
       "Series([], dtype: object)"
      ]
     },
     "execution_count": 139,
     "metadata": {},
     "output_type": "execute_result"
    }
   ],
   "source": [
    "df_sales[df_sales['Product_Category_1']==20]['Product_Category_2'].mode()"
   ]
  },
  {
   "cell_type": "code",
   "execution_count": 140,
   "id": "502d09c2",
   "metadata": {},
   "outputs": [],
   "source": [
    "df_sales.loc[(df_sales.Product_Category_1==20) & (df_sales.Product_Category_3.isna()), 'Product_Category_3'] = 0"
   ]
  },
  {
   "cell_type": "code",
   "execution_count": 141,
   "id": "a5110972",
   "metadata": {},
   "outputs": [],
   "source": [
    "df_sales.loc[(df_sales.Product_Category_1==20) & (df_sales.Product_Category_2.isna()), 'Product_Category_2'] = 0"
   ]
  },
  {
   "cell_type": "code",
   "execution_count": 142,
   "id": "61fdc200",
   "metadata": {},
   "outputs": [
    {
     "data": {
      "text/plain": [
       "Gender                        0\n",
       "Age                           0\n",
       "Occupation                    0\n",
       "City_Category                 0\n",
       "Stay_In_Current_City_Years    0\n",
       "Marital_Status                0\n",
       "Product_Category_1            0\n",
       "Product_Category_2            0\n",
       "Product_Category_3            0\n",
       "Purchase                      0\n",
       "dtype: int64"
      ]
     },
     "execution_count": 142,
     "metadata": {},
     "output_type": "execute_result"
    }
   ],
   "source": [
    "df_sales[df_sales['Product_Category_1']==20].isnull().sum()"
   ]
  },
  {
   "cell_type": "code",
   "execution_count": null,
   "id": "450c11a6",
   "metadata": {},
   "outputs": [],
   "source": []
  },
  {
   "cell_type": "code",
   "execution_count": 143,
   "id": "5e11a32d",
   "metadata": {},
   "outputs": [
    {
     "data": {
      "text/plain": [
       "Gender                        0\n",
       "Age                           0\n",
       "Occupation                    0\n",
       "City_Category                 0\n",
       "Stay_In_Current_City_Years    0\n",
       "Marital_Status                0\n",
       "Product_Category_1            0\n",
       "Product_Category_2            0\n",
       "Product_Category_3            0\n",
       "Purchase                      0\n",
       "dtype: int64"
      ]
     },
     "execution_count": 143,
     "metadata": {},
     "output_type": "execute_result"
    }
   ],
   "source": [
    "df_sales.isna().sum()"
   ]
  },
  {
   "cell_type": "code",
   "execution_count": null,
   "id": "61c54a7a",
   "metadata": {},
   "outputs": [],
   "source": []
  },
  {
   "cell_type": "code",
   "execution_count": 144,
   "id": "c8ed4b4e",
   "metadata": {},
   "outputs": [],
   "source": [
    "### Label Encoding"
   ]
  },
  {
   "cell_type": "code",
   "execution_count": 145,
   "id": "bfeefb2c",
   "metadata": {},
   "outputs": [
    {
     "data": {
      "text/html": [
       "<div>\n",
       "<style scoped>\n",
       "    .dataframe tbody tr th:only-of-type {\n",
       "        vertical-align: middle;\n",
       "    }\n",
       "\n",
       "    .dataframe tbody tr th {\n",
       "        vertical-align: top;\n",
       "    }\n",
       "\n",
       "    .dataframe thead th {\n",
       "        text-align: right;\n",
       "    }\n",
       "</style>\n",
       "<table border=\"1\" class=\"dataframe\">\n",
       "  <thead>\n",
       "    <tr style=\"text-align: right;\">\n",
       "      <th></th>\n",
       "      <th>Gender</th>\n",
       "      <th>Age</th>\n",
       "      <th>Occupation</th>\n",
       "      <th>City_Category</th>\n",
       "      <th>Stay_In_Current_City_Years</th>\n",
       "      <th>Marital_Status</th>\n",
       "      <th>Product_Category_1</th>\n",
       "      <th>Product_Category_2</th>\n",
       "      <th>Product_Category_3</th>\n",
       "      <th>Purchase</th>\n",
       "    </tr>\n",
       "  </thead>\n",
       "  <tbody>\n",
       "    <tr>\n",
       "      <th>0</th>\n",
       "      <td>F</td>\n",
       "      <td>0-17</td>\n",
       "      <td>10</td>\n",
       "      <td>A</td>\n",
       "      <td>2</td>\n",
       "      <td>0</td>\n",
       "      <td>3</td>\n",
       "      <td>4</td>\n",
       "      <td>5</td>\n",
       "      <td>8370</td>\n",
       "    </tr>\n",
       "    <tr>\n",
       "      <th>1</th>\n",
       "      <td>F</td>\n",
       "      <td>0-17</td>\n",
       "      <td>10</td>\n",
       "      <td>A</td>\n",
       "      <td>2</td>\n",
       "      <td>0</td>\n",
       "      <td>1</td>\n",
       "      <td>6.000000</td>\n",
       "      <td>14.000000</td>\n",
       "      <td>15200</td>\n",
       "    </tr>\n",
       "    <tr>\n",
       "      <th>2</th>\n",
       "      <td>F</td>\n",
       "      <td>0-17</td>\n",
       "      <td>10</td>\n",
       "      <td>A</td>\n",
       "      <td>2</td>\n",
       "      <td>0</td>\n",
       "      <td>12</td>\n",
       "      <td>14</td>\n",
       "      <td>17</td>\n",
       "      <td>1422</td>\n",
       "    </tr>\n",
       "    <tr>\n",
       "      <th>3</th>\n",
       "      <td>F</td>\n",
       "      <td>0-17</td>\n",
       "      <td>10</td>\n",
       "      <td>A</td>\n",
       "      <td>2</td>\n",
       "      <td>0</td>\n",
       "      <td>12</td>\n",
       "      <td>14.000000</td>\n",
       "      <td>17</td>\n",
       "      <td>1057</td>\n",
       "    </tr>\n",
       "    <tr>\n",
       "      <th>4</th>\n",
       "      <td>M</td>\n",
       "      <td>55+</td>\n",
       "      <td>16</td>\n",
       "      <td>C</td>\n",
       "      <td>4+</td>\n",
       "      <td>0</td>\n",
       "      <td>8</td>\n",
       "      <td>14</td>\n",
       "      <td>17</td>\n",
       "      <td>7969</td>\n",
       "    </tr>\n",
       "  </tbody>\n",
       "</table>\n",
       "</div>"
      ],
      "text/plain": [
       "  Gender   Age Occupation City_Category Stay_In_Current_City_Years  \\\n",
       "0      F  0-17         10             A                          2   \n",
       "1      F  0-17         10             A                          2   \n",
       "2      F  0-17         10             A                          2   \n",
       "3      F  0-17         10             A                          2   \n",
       "4      M   55+         16             C                         4+   \n",
       "\n",
       "  Marital_Status Product_Category_1 Product_Category_2 Product_Category_3  \\\n",
       "0              0                  3                  4                  5   \n",
       "1              0                  1           6.000000          14.000000   \n",
       "2              0                 12                 14                 17   \n",
       "3              0                 12          14.000000                 17   \n",
       "4              0                  8                 14                 17   \n",
       "\n",
       "   Purchase  \n",
       "0      8370  \n",
       "1     15200  \n",
       "2      1422  \n",
       "3      1057  \n",
       "4      7969  "
      ]
     },
     "execution_count": 145,
     "metadata": {},
     "output_type": "execute_result"
    }
   ],
   "source": [
    "df_sales.head()"
   ]
  },
  {
   "cell_type": "code",
   "execution_count": 146,
   "id": "73ddc630",
   "metadata": {},
   "outputs": [],
   "source": [
    "from sklearn.preprocessing import LabelEncoder\n",
    "lr = LabelEncoder()"
   ]
  },
  {
   "cell_type": "code",
   "execution_count": 147,
   "id": "a67fe0db",
   "metadata": {},
   "outputs": [],
   "source": [
    "df_sales['Gender'] = lr.fit_transform(df_sales['Gender'])\n",
    "df_sales['Age'] = lr.fit_transform(df_sales['Age'])\n",
    "df_sales['Stay_In_Current_City_Years'] = lr.fit_transform(df_sales['Stay_In_Current_City_Years'])\n",
    "df_sales['City_Category'] = lr.fit_transform(df_sales['City_Category'])"
   ]
  },
  {
   "cell_type": "code",
   "execution_count": 148,
   "id": "292c0205",
   "metadata": {},
   "outputs": [
    {
     "data": {
      "text/html": [
       "<div>\n",
       "<style scoped>\n",
       "    .dataframe tbody tr th:only-of-type {\n",
       "        vertical-align: middle;\n",
       "    }\n",
       "\n",
       "    .dataframe tbody tr th {\n",
       "        vertical-align: top;\n",
       "    }\n",
       "\n",
       "    .dataframe thead th {\n",
       "        text-align: right;\n",
       "    }\n",
       "</style>\n",
       "<table border=\"1\" class=\"dataframe\">\n",
       "  <thead>\n",
       "    <tr style=\"text-align: right;\">\n",
       "      <th></th>\n",
       "      <th>Gender</th>\n",
       "      <th>Age</th>\n",
       "      <th>Occupation</th>\n",
       "      <th>City_Category</th>\n",
       "      <th>Stay_In_Current_City_Years</th>\n",
       "      <th>Marital_Status</th>\n",
       "      <th>Product_Category_1</th>\n",
       "      <th>Product_Category_2</th>\n",
       "      <th>Product_Category_3</th>\n",
       "      <th>Purchase</th>\n",
       "    </tr>\n",
       "  </thead>\n",
       "  <tbody>\n",
       "    <tr>\n",
       "      <th>0</th>\n",
       "      <td>0</td>\n",
       "      <td>0</td>\n",
       "      <td>10</td>\n",
       "      <td>0</td>\n",
       "      <td>2</td>\n",
       "      <td>0</td>\n",
       "      <td>3</td>\n",
       "      <td>4</td>\n",
       "      <td>5</td>\n",
       "      <td>8370</td>\n",
       "    </tr>\n",
       "    <tr>\n",
       "      <th>1</th>\n",
       "      <td>0</td>\n",
       "      <td>0</td>\n",
       "      <td>10</td>\n",
       "      <td>0</td>\n",
       "      <td>2</td>\n",
       "      <td>0</td>\n",
       "      <td>1</td>\n",
       "      <td>6.000000</td>\n",
       "      <td>14.000000</td>\n",
       "      <td>15200</td>\n",
       "    </tr>\n",
       "    <tr>\n",
       "      <th>2</th>\n",
       "      <td>0</td>\n",
       "      <td>0</td>\n",
       "      <td>10</td>\n",
       "      <td>0</td>\n",
       "      <td>2</td>\n",
       "      <td>0</td>\n",
       "      <td>12</td>\n",
       "      <td>14</td>\n",
       "      <td>17</td>\n",
       "      <td>1422</td>\n",
       "    </tr>\n",
       "    <tr>\n",
       "      <th>3</th>\n",
       "      <td>0</td>\n",
       "      <td>0</td>\n",
       "      <td>10</td>\n",
       "      <td>0</td>\n",
       "      <td>2</td>\n",
       "      <td>0</td>\n",
       "      <td>12</td>\n",
       "      <td>14.000000</td>\n",
       "      <td>17</td>\n",
       "      <td>1057</td>\n",
       "    </tr>\n",
       "    <tr>\n",
       "      <th>4</th>\n",
       "      <td>1</td>\n",
       "      <td>6</td>\n",
       "      <td>16</td>\n",
       "      <td>2</td>\n",
       "      <td>4</td>\n",
       "      <td>0</td>\n",
       "      <td>8</td>\n",
       "      <td>14</td>\n",
       "      <td>17</td>\n",
       "      <td>7969</td>\n",
       "    </tr>\n",
       "  </tbody>\n",
       "</table>\n",
       "</div>"
      ],
      "text/plain": [
       "   Gender  Age Occupation  City_Category  Stay_In_Current_City_Years  \\\n",
       "0       0    0         10              0                           2   \n",
       "1       0    0         10              0                           2   \n",
       "2       0    0         10              0                           2   \n",
       "3       0    0         10              0                           2   \n",
       "4       1    6         16              2                           4   \n",
       "\n",
       "  Marital_Status Product_Category_1 Product_Category_2 Product_Category_3  \\\n",
       "0              0                  3                  4                  5   \n",
       "1              0                  1           6.000000          14.000000   \n",
       "2              0                 12                 14                 17   \n",
       "3              0                 12          14.000000                 17   \n",
       "4              0                  8                 14                 17   \n",
       "\n",
       "   Purchase  \n",
       "0      8370  \n",
       "1     15200  \n",
       "2      1422  \n",
       "3      1057  \n",
       "4      7969  "
      ]
     },
     "execution_count": 148,
     "metadata": {},
     "output_type": "execute_result"
    }
   ],
   "source": [
    "df_sales.head()"
   ]
  },
  {
   "cell_type": "code",
   "execution_count": null,
   "id": "1931c28b",
   "metadata": {},
   "outputs": [],
   "source": []
  },
  {
   "cell_type": "code",
   "execution_count": 149,
   "id": "4ff6a800",
   "metadata": {},
   "outputs": [],
   "source": [
    "## RFE selection"
   ]
  },
  {
   "cell_type": "code",
   "execution_count": 150,
   "id": "306f22b4",
   "metadata": {},
   "outputs": [],
   "source": [
    "from sklearn.feature_selection import RFE"
   ]
  },
  {
   "cell_type": "code",
   "execution_count": 151,
   "id": "8c853d16",
   "metadata": {},
   "outputs": [],
   "source": [
    "from sklearn.model_selection import train_test_split\n",
    "from sklearn.linear_model import LinearRegression"
   ]
  },
  {
   "cell_type": "code",
   "execution_count": 152,
   "id": "66ed31e5",
   "metadata": {},
   "outputs": [
    {
     "name": "stdout",
     "output_type": "stream",
     "text": [
      "Index(['Gender', 'City_Category', 'Product_Category_1', 'Product_Category_3'], dtype='object')\n"
     ]
    }
   ],
   "source": [
    "# set of independent variables\n",
    "# drop the target variable using 'drop()'\n",
    "# 'axis = 1' drops the specified column\n",
    "X = df_sales.drop('Purchase', axis = 1)\n",
    " \n",
    "# consider the dependent variable\n",
    "y = df_sales['Purchase']\n",
    "\n",
    "# split data into train subset and test subset\n",
    "# set 'random_state' to generate the same dataset each time you run the code \n",
    "# 'test_size' returns the proportion of data to be included in the testing set\n",
    "X_train, X_test, y_train, y_test = train_test_split(X, y, test_size = 0.20, random_state = 10)\n",
    "\n",
    "# initiate linear regression model to use in feature selection\n",
    "linreg_rfe = LinearRegression()\n",
    "\n",
    "# build the RFE model\n",
    "# pass the regression model to 'estimator'\n",
    "# pass number of required features to 'n_features_to_select'\n",
    "# if we do not pass the number of features, RFE considers half of the features\n",
    "rfe_model = RFE(estimator=linreg_rfe, step = 1)\n",
    "\n",
    "# fit the RFE model on the training dataset using fit()\n",
    "rfe_model = rfe_model.fit(X_train, y_train)\n",
    "\n",
    "\n",
    "\n",
    "# create a series containing feature and its corresponding rank obtained from RFE\n",
    "# 'ranking_' returns the rank of each variable after applying RFE\n",
    "# pass the ranks as the 'data' of a series\n",
    "# 'index' assigns feature names as index of a series \n",
    "feat_index = pd.Series(data = rfe_model.ranking_, index = X_train.columns)\n",
    "\n",
    "# select the features with rank = 1\n",
    "# 'index' returns the indices of a series (i.e. features with rank=1) \n",
    "signi_feat_rfe = feat_index[feat_index==1].index\n",
    "\n",
    "# print the significant features obtained from RFE\n",
    "print(signi_feat_rfe)"
   ]
  },
  {
   "cell_type": "code",
   "execution_count": 153,
   "id": "105fcc4c",
   "metadata": {},
   "outputs": [
    {
     "data": {
      "text/plain": [
       "Gender                        1\n",
       "Age                           2\n",
       "Occupation                    5\n",
       "City_Category                 1\n",
       "Stay_In_Current_City_Years    4\n",
       "Marital_Status                3\n",
       "Product_Category_1            1\n",
       "Product_Category_2            6\n",
       "Product_Category_3            1\n",
       "dtype: int32"
      ]
     },
     "execution_count": 153,
     "metadata": {},
     "output_type": "execute_result"
    }
   ],
   "source": [
    "feat_index"
   ]
  },
  {
   "cell_type": "code",
   "execution_count": 154,
   "id": "f65609e9",
   "metadata": {},
   "outputs": [],
   "source": [
    "## This are the most significant features in the dataset using RFE"
   ]
  },
  {
   "cell_type": "code",
   "execution_count": null,
   "id": "a91b1449",
   "metadata": {},
   "outputs": [],
   "source": []
  },
  {
   "cell_type": "code",
   "execution_count": null,
   "id": "15b89bdf",
   "metadata": {},
   "outputs": [],
   "source": []
  },
  {
   "cell_type": "code",
   "execution_count": 155,
   "id": "ea75c561",
   "metadata": {},
   "outputs": [],
   "source": [
    "from mlxtend.feature_selection import SequentialFeatureSelector as sfs"
   ]
  },
  {
   "cell_type": "code",
   "execution_count": 156,
   "id": "6a4c47f0",
   "metadata": {},
   "outputs": [],
   "source": [
    "## Forward Selection"
   ]
  },
  {
   "cell_type": "code",
   "execution_count": 157,
   "id": "97f60e78",
   "metadata": {},
   "outputs": [],
   "source": [
    "df_sales_cons = df_sales.copy()"
   ]
  },
  {
   "cell_type": "code",
   "execution_count": 158,
   "id": "b1158986",
   "metadata": {},
   "outputs": [],
   "source": [
    "X = df_sales_cons.drop('Purchase',1)\n",
    "\n",
    "y = df_sales_cons['Purchase']\n",
    "\n",
    "X_train, X_test, y_train, y_test = train_test_split(X, y, test_size = 0.20, random_state = 10)"
   ]
  },
  {
   "cell_type": "code",
   "execution_count": 159,
   "id": "ed2b8f0d",
   "metadata": {},
   "outputs": [
    {
     "name": "stderr",
     "output_type": "stream",
     "text": [
      "[Parallel(n_jobs=1)]: Using backend SequentialBackend with 1 concurrent workers.\n",
      "[Parallel(n_jobs=1)]: Done   1 out of   1 | elapsed:    0.1s remaining:    0.0s\n",
      "[Parallel(n_jobs=1)]: Done   9 out of   9 | elapsed:    2.5s finished\n",
      "\n",
      "[2022-02-26 16:17:57] Features: 1/9 -- score: 0.11735115137547544[Parallel(n_jobs=1)]: Using backend SequentialBackend with 1 concurrent workers.\n",
      "[Parallel(n_jobs=1)]: Done   1 out of   1 | elapsed:    0.3s remaining:    0.0s\n",
      "[Parallel(n_jobs=1)]: Done   8 out of   8 | elapsed:    3.5s finished\n",
      "\n",
      "[2022-02-26 16:18:00] Features: 2/9 -- score: 0.13685518544978073[Parallel(n_jobs=1)]: Using backend SequentialBackend with 1 concurrent workers.\n",
      "[Parallel(n_jobs=1)]: Done   1 out of   1 | elapsed:    0.6s remaining:    0.0s\n",
      "[Parallel(n_jobs=1)]: Done   7 out of   7 | elapsed:    6.0s finished\n",
      "\n",
      "[2022-02-26 16:18:06] Features: 3/9 -- score: 0.1398413959164665[Parallel(n_jobs=1)]: Using backend SequentialBackend with 1 concurrent workers.\n",
      "[Parallel(n_jobs=1)]: Done   1 out of   1 | elapsed:    0.7s remaining:    0.0s\n",
      "[Parallel(n_jobs=1)]: Done   6 out of   6 | elapsed:    5.3s finished\n",
      "\n",
      "[2022-02-26 16:18:12] Features: 4/9 -- score: 0.1417974031986529[Parallel(n_jobs=1)]: Using backend SequentialBackend with 1 concurrent workers.\n",
      "[Parallel(n_jobs=1)]: Done   1 out of   1 | elapsed:    1.0s remaining:    0.0s\n",
      "[Parallel(n_jobs=1)]: Done   5 out of   5 | elapsed:    5.4s finished\n",
      "\n",
      "[2022-02-26 16:18:17] Features: 5/9 -- score: 0.1429978107121697[Parallel(n_jobs=1)]: Using backend SequentialBackend with 1 concurrent workers.\n",
      "[Parallel(n_jobs=1)]: Done   1 out of   1 | elapsed:    0.9s remaining:    0.0s\n",
      "[Parallel(n_jobs=1)]: Done   4 out of   4 | elapsed:    4.8s finished\n",
      "\n",
      "[2022-02-26 16:18:22] Features: 6/9 -- score: 0.14304452845785143[Parallel(n_jobs=1)]: Using backend SequentialBackend with 1 concurrent workers.\n",
      "[Parallel(n_jobs=1)]: Done   1 out of   1 | elapsed:    1.2s remaining:    0.0s\n",
      "[Parallel(n_jobs=1)]: Done   3 out of   3 | elapsed:    4.3s finished\n",
      "\n",
      "[2022-02-26 16:18:27] Features: 7/9 -- score: 0.1430777248403141[Parallel(n_jobs=1)]: Using backend SequentialBackend with 1 concurrent workers.\n",
      "[Parallel(n_jobs=1)]: Done   1 out of   1 | elapsed:    1.8s remaining:    0.0s\n",
      "[Parallel(n_jobs=1)]: Done   2 out of   2 | elapsed:    3.6s finished\n",
      "\n",
      "[2022-02-26 16:18:30] Features: 8/9 -- score: 0.14307971171611836[Parallel(n_jobs=1)]: Using backend SequentialBackend with 1 concurrent workers.\n",
      "[Parallel(n_jobs=1)]: Done   1 out of   1 | elapsed:    2.0s remaining:    0.0s\n",
      "[Parallel(n_jobs=1)]: Done   1 out of   1 | elapsed:    2.0s finished\n",
      "\n",
      "[2022-02-26 16:18:32] Features: 9/9 -- score: 0.14307966219139495"
     ]
    }
   ],
   "source": [
    "linreg = LinearRegression()\n",
    "\n",
    "linreg_forward = sfs(estimator=linreg, k_features = 'best', forward=True,\n",
    "                     verbose=2, scoring='r2')\n",
    "\n",
    "# fit the forward selection on training data using fit()\n",
    "sfs_forward = linreg_forward.fit(X_train, y_train) ## it will fit the model to the selected features"
   ]
  },
  {
   "cell_type": "code",
   "execution_count": 160,
   "id": "a17c1908",
   "metadata": {},
   "outputs": [
    {
     "data": {
      "text/plain": [
       "('Gender',\n",
       " 'Age',\n",
       " 'Occupation',\n",
       " 'City_Category',\n",
       " 'Marital_Status',\n",
       " 'Product_Category_1',\n",
       " 'Product_Category_2',\n",
       " 'Product_Category_3')"
      ]
     },
     "execution_count": 160,
     "metadata": {},
     "output_type": "execute_result"
    }
   ],
   "source": [
    "sfs_forward.k_feature_names_"
   ]
  },
  {
   "cell_type": "code",
   "execution_count": null,
   "id": "1fafe32b",
   "metadata": {},
   "outputs": [],
   "source": []
  },
  {
   "cell_type": "code",
   "execution_count": null,
   "id": "0abf7658",
   "metadata": {},
   "outputs": [],
   "source": []
  },
  {
   "cell_type": "code",
   "execution_count": 161,
   "id": "9057ac9f",
   "metadata": {},
   "outputs": [],
   "source": [
    "## Backward Elimination"
   ]
  },
  {
   "cell_type": "code",
   "execution_count": 162,
   "id": "1553b35e",
   "metadata": {},
   "outputs": [
    {
     "name": "stderr",
     "output_type": "stream",
     "text": [
      "[Parallel(n_jobs=1)]: Using backend SequentialBackend with 1 concurrent workers.\n",
      "[Parallel(n_jobs=1)]: Done   1 out of   1 | elapsed:    1.7s remaining:    0.0s\n",
      "[Parallel(n_jobs=1)]: Done   9 out of   9 | elapsed:   15.6s finished\n",
      "\n",
      "[2022-02-26 16:18:51] Features: 8/1 -- score: 0.14307971171611836[Parallel(n_jobs=1)]: Using backend SequentialBackend with 1 concurrent workers.\n",
      "[Parallel(n_jobs=1)]: Done   1 out of   1 | elapsed:    1.3s remaining:    0.0s\n",
      "[Parallel(n_jobs=1)]: Done   8 out of   8 | elapsed:   11.9s finished\n",
      "\n",
      "[2022-02-26 16:19:03] Features: 7/1 -- score: 0.1430777248403141[Parallel(n_jobs=1)]: Using backend SequentialBackend with 1 concurrent workers.\n",
      "[Parallel(n_jobs=1)]: Done   1 out of   1 | elapsed:    0.8s remaining:    0.0s\n",
      "[Parallel(n_jobs=1)]: Done   7 out of   7 | elapsed:    8.6s finished\n",
      "\n",
      "[2022-02-26 16:19:11] Features: 6/1 -- score: 0.14304452845785143[Parallel(n_jobs=1)]: Using backend SequentialBackend with 1 concurrent workers.\n",
      "[Parallel(n_jobs=1)]: Done   1 out of   1 | elapsed:    0.7s remaining:    0.0s\n",
      "[Parallel(n_jobs=1)]: Done   6 out of   6 | elapsed:    5.8s finished\n",
      "\n",
      "[2022-02-26 16:19:17] Features: 5/1 -- score: 0.1429978107121697[Parallel(n_jobs=1)]: Using backend SequentialBackend with 1 concurrent workers.\n",
      "[Parallel(n_jobs=1)]: Done   1 out of   1 | elapsed:    0.5s remaining:    0.0s\n",
      "[Parallel(n_jobs=1)]: Done   5 out of   5 | elapsed:    4.1s finished\n",
      "\n",
      "[2022-02-26 16:19:21] Features: 4/1 -- score: 0.14179740319865292[Parallel(n_jobs=1)]: Using backend SequentialBackend with 1 concurrent workers.\n",
      "[Parallel(n_jobs=1)]: Done   1 out of   1 | elapsed:    0.6s remaining:    0.0s\n",
      "[Parallel(n_jobs=1)]: Done   4 out of   4 | elapsed:    2.7s finished\n",
      "\n",
      "[2022-02-26 16:19:24] Features: 3/1 -- score: 0.1398413959164665[Parallel(n_jobs=1)]: Using backend SequentialBackend with 1 concurrent workers.\n",
      "[Parallel(n_jobs=1)]: Done   1 out of   1 | elapsed:    0.6s remaining:    0.0s\n",
      "[Parallel(n_jobs=1)]: Done   3 out of   3 | elapsed:    1.6s finished\n",
      "\n",
      "[2022-02-26 16:19:26] Features: 2/1 -- score: 0.13685518544978073[Parallel(n_jobs=1)]: Using backend SequentialBackend with 1 concurrent workers.\n",
      "[Parallel(n_jobs=1)]: Done   1 out of   1 | elapsed:    0.3s remaining:    0.0s\n",
      "[Parallel(n_jobs=1)]: Done   2 out of   2 | elapsed:    0.5s finished\n",
      "\n",
      "[2022-02-26 16:19:26] Features: 1/1 -- score: 0.11735115137547544"
     ]
    }
   ],
   "source": [
    "linreg = LinearRegression()\n",
    "\n",
    "linreg_backward = sfs(estimator = linreg, k_features = 'best', forward = False,\n",
    "                     verbose = 2, scoring = 'r2')\n",
    "\n",
    "sfs_backward = linreg_backward.fit(X_train,y_train)"
   ]
  },
  {
   "cell_type": "code",
   "execution_count": 163,
   "id": "2a597fed",
   "metadata": {},
   "outputs": [
    {
     "data": {
      "text/plain": [
       "('Gender',\n",
       " 'Age',\n",
       " 'Occupation',\n",
       " 'City_Category',\n",
       " 'Marital_Status',\n",
       " 'Product_Category_1',\n",
       " 'Product_Category_2',\n",
       " 'Product_Category_3')"
      ]
     },
     "execution_count": 163,
     "metadata": {},
     "output_type": "execute_result"
    }
   ],
   "source": [
    "sfs_backward.k_feature_names_"
   ]
  },
  {
   "cell_type": "code",
   "execution_count": 164,
   "id": "d3667aed",
   "metadata": {},
   "outputs": [],
   "source": [
    "## This are the best significant feature to be selected for model building"
   ]
  },
  {
   "cell_type": "code",
   "execution_count": null,
   "id": "72c5deda",
   "metadata": {},
   "outputs": [],
   "source": []
  },
  {
   "cell_type": "code",
   "execution_count": null,
   "id": "e6ed6a7d",
   "metadata": {},
   "outputs": [],
   "source": []
  },
  {
   "cell_type": "code",
   "execution_count": 165,
   "id": "18b69c2c",
   "metadata": {},
   "outputs": [],
   "source": [
    "## Linear Regression Model"
   ]
  },
  {
   "cell_type": "code",
   "execution_count": 166,
   "id": "773e6174",
   "metadata": {},
   "outputs": [
    {
     "name": "stdout",
     "output_type": "stream",
     "text": [
      "<class 'pandas.core.frame.DataFrame'>\n",
      "RangeIndex: 550068 entries, 0 to 550067\n",
      "Data columns (total 10 columns):\n",
      " #   Column                      Non-Null Count   Dtype \n",
      "---  ------                      --------------   ----- \n",
      " 0   Gender                      550068 non-null  int32 \n",
      " 1   Age                         550068 non-null  int32 \n",
      " 2   Occupation                  550068 non-null  object\n",
      " 3   City_Category               550068 non-null  int32 \n",
      " 4   Stay_In_Current_City_Years  550068 non-null  int32 \n",
      " 5   Marital_Status              550068 non-null  object\n",
      " 6   Product_Category_1          550068 non-null  object\n",
      " 7   Product_Category_2          550068 non-null  object\n",
      " 8   Product_Category_3          550068 non-null  object\n",
      " 9   Purchase                    550068 non-null  int64 \n",
      "dtypes: int32(4), int64(1), object(5)\n",
      "memory usage: 33.6+ MB\n"
     ]
    }
   ],
   "source": [
    "df_sales.info()"
   ]
  },
  {
   "cell_type": "code",
   "execution_count": 167,
   "id": "55080a77",
   "metadata": {},
   "outputs": [],
   "source": [
    "df_sales['Occupation'] = df_sales['Occupation'].astype('int64')\n",
    "df_sales['Marital_Status'] = df_sales['Marital_Status'].astype('int64')\n",
    "df_sales['Product_Category_1'] = df_sales['Product_Category_1'].astype('int64')\n",
    "df_sales['Product_Category_2'] = df_sales['Product_Category_2'].astype('int64')\n",
    "df_sales['Product_Category_3'] = df_sales['Product_Category_3'].astype('int64')"
   ]
  },
  {
   "cell_type": "code",
   "execution_count": 168,
   "id": "149a2ac2",
   "metadata": {},
   "outputs": [],
   "source": [
    "X = df_sales.drop('Purchase', axis = 1)\n",
    " \n",
    "# consider the dependent variable\n",
    "y = df_sales['Purchase']\n",
    "\n",
    "X = sm.add_constant(X)\n",
    "\n",
    "X_train,X_test,y_train,y_test = train_test_split(X,y,random_state=20,test_size=0.3)"
   ]
  },
  {
   "cell_type": "code",
   "execution_count": 169,
   "id": "2d1544b3",
   "metadata": {},
   "outputs": [
    {
     "name": "stdout",
     "output_type": "stream",
     "text": [
      "                            OLS Regression Results                            \n",
      "==============================================================================\n",
      "Dep. Variable:               Purchase   R-squared:                       0.144\n",
      "Model:                            OLS   Adj. R-squared:                  0.144\n",
      "Method:                 Least Squares   F-statistic:                     7178.\n",
      "Date:                Sat, 26 Feb 2022   Prob (F-statistic):               0.00\n",
      "Time:                        16:19:27   Log-Likelihood:            -3.7979e+06\n",
      "No. Observations:              385047   AIC:                         7.596e+06\n",
      "Df Residuals:                  385037   BIC:                         7.596e+06\n",
      "Df Model:                           9                                         \n",
      "Covariance Type:            nonrobust                                         \n",
      "==============================================================================================\n",
      "                                 coef    std err          t      P>|t|      [0.025      0.975]\n",
      "----------------------------------------------------------------------------------------------\n",
      "const                        1.29e+04     37.677    342.319      0.000    1.28e+04     1.3e+04\n",
      "Gender                       512.6099     17.533     29.237      0.000     478.246     546.974\n",
      "Age                          133.5739      5.903     22.629      0.000     122.004     145.143\n",
      "Occupation                     5.3600      1.164      4.606      0.000       3.079       7.641\n",
      "City_Category                341.5315      9.937     34.371      0.000     322.056     361.007\n",
      "Stay_In_Current_City_Years     4.4845      5.818      0.771      0.441      -6.918      15.887\n",
      "Marital_Status               -57.9042     16.042     -3.610      0.000     -89.346     -26.462\n",
      "Product_Category_1          -451.9205      2.102   -215.033      0.000    -456.040    -447.801\n",
      "Product_Category_2            -2.4447      2.054     -1.190      0.234      -6.471       1.581\n",
      "Product_Category_3          -165.7745      2.359    -70.283      0.000    -170.397    -161.152\n",
      "==============================================================================\n",
      "Omnibus:                    36938.031   Durbin-Watson:                   2.002\n",
      "Prob(Omnibus):                  0.000   Jarque-Bera (JB):            50317.214\n",
      "Skew:                           0.791   Prob(JB):                         0.00\n",
      "Kurtosis:                       3.796   Cond. No.                         106.\n",
      "==============================================================================\n",
      "\n",
      "Notes:\n",
      "[1] Standard Errors assume that the covariance matrix of the errors is correctly specified.\n"
     ]
    }
   ],
   "source": [
    "MLR_model = sm.OLS(y_train,X_train).fit()\n",
    "\n",
    "print(MLR_model.summary())"
   ]
  },
  {
   "cell_type": "code",
   "execution_count": 170,
   "id": "5ce04eda",
   "metadata": {},
   "outputs": [
    {
     "name": "stdout",
     "output_type": "stream",
     "text": [
      "RMSE for train dataset is :  4649.004\n"
     ]
    }
   ],
   "source": [
    "train_pred = MLR_model.predict(X_train)\n",
    "mse_train = mean_squared_error(y_train, train_pred)\n",
    "rmse_train = round(np.sqrt(mse_train), 4)\n",
    "print('RMSE for train dataset is : ',rmse_train)"
   ]
  },
  {
   "cell_type": "code",
   "execution_count": 171,
   "id": "20d51e3c",
   "metadata": {},
   "outputs": [
    {
     "name": "stdout",
     "output_type": "stream",
     "text": [
      "RMSE for test dataset is :  4644.2447\n"
     ]
    }
   ],
   "source": [
    "test_pred = MLR_model.predict(X_test)\n",
    "mse_test = mean_squared_error(y_test,test_pred)\n",
    "rmse_test = round(np.sqrt(mse_test),4)\n",
    "print('RMSE for test dataset is : ',rmse_test)"
   ]
  },
  {
   "cell_type": "code",
   "execution_count": null,
   "id": "9c271874",
   "metadata": {},
   "outputs": [],
   "source": []
  },
  {
   "cell_type": "code",
   "execution_count": null,
   "id": "e64771da",
   "metadata": {},
   "outputs": [],
   "source": []
  },
  {
   "cell_type": "code",
   "execution_count": null,
   "id": "f7681693",
   "metadata": {},
   "outputs": [],
   "source": []
  },
  {
   "cell_type": "code",
   "execution_count": null,
   "id": "b77f8f0e",
   "metadata": {},
   "outputs": [],
   "source": []
  },
  {
   "cell_type": "code",
   "execution_count": 172,
   "id": "d575983c",
   "metadata": {},
   "outputs": [],
   "source": [
    "from sklearn.model_selection import cross_val_score"
   ]
  },
  {
   "cell_type": "code",
   "execution_count": 174,
   "id": "bcc66be7",
   "metadata": {},
   "outputs": [],
   "source": [
    "# split data into train subset and test subset\n",
    "# set 'random_state' to generate the same dataset each time you run the code \n",
    "# 'test_size' returns the proportion of data to be included in the testing set\n",
    "X_train, X_test, y_train, y_test = train_test_split(X, y, test_size = 0.30, random_state = 10)"
   ]
  },
  {
   "cell_type": "code",
   "execution_count": 175,
   "id": "f1ca821e",
   "metadata": {},
   "outputs": [],
   "source": [
    "# using cross_val_score() for k-fold cross validation\n",
    "# estimator: pass the machine learning function. Here we are performing linear regression\n",
    "# pass the X_train and y_train sets\n",
    "# cv: stands for number of folds. Similar to k in KFold\n",
    "# scoring: pass the scoring parameter e.g. 'r2' for r-squared, 'neg_mean_squared_error' for mean squared error (negative)\n",
    "scores = cross_val_score(estimator = LinearRegression(), \n",
    "                         X = X_train, \n",
    "                         y = y_train, \n",
    "                         cv = 5, \n",
    "                         scoring = 'r2')"
   ]
  },
  {
   "cell_type": "code",
   "execution_count": 176,
   "id": "c1c7ba12",
   "metadata": {},
   "outputs": [
    {
     "name": "stdout",
     "output_type": "stream",
     "text": [
      "All scores:  [0.14307922 0.14662074 0.14221384 0.14563317 0.14266136]\n",
      "\n",
      "Minimum score obtained:  0.1422\n",
      "Maximum score obtained:  0.1466\n",
      "Average score obtained:  0.144\n"
     ]
    }
   ],
   "source": [
    "# print all scores\n",
    "print('All scores: ', scores)\n",
    "\n",
    "# print the minimum score from the list\n",
    "# use 'round()' to round-off the minimum score upto 4 digits\n",
    "# min() returns minimum score \n",
    "print(\"\\nMinimum score obtained: \", round(min(scores), 4))\n",
    "\n",
    "# print the maximum score from the list\n",
    "# use 'round()' to round-off the maximum score upto 4 digits\n",
    "# max() returns maximum score \n",
    "print(\"Maximum score obtained: \", round(max(scores), 4))\n",
    "\n",
    "# print the average score from the list\n",
    "# use 'round()' to round-off the average score upto 4 digits\n",
    "# np.mean() returns average score \n",
    "print(\"Average score obtained: \", round(np.mean(scores), 4))"
   ]
  },
  {
   "cell_type": "code",
   "execution_count": null,
   "id": "0c09c5bc",
   "metadata": {},
   "outputs": [],
   "source": []
  },
  {
   "cell_type": "code",
   "execution_count": null,
   "id": "ea1d0a98",
   "metadata": {},
   "outputs": [],
   "source": []
  },
  {
   "cell_type": "code",
   "execution_count": null,
   "id": "bb341287",
   "metadata": {},
   "outputs": [],
   "source": []
  },
  {
   "cell_type": "code",
   "execution_count": null,
   "id": "26cc2a95",
   "metadata": {},
   "outputs": [],
   "source": []
  },
  {
   "cell_type": "code",
   "execution_count": null,
   "id": "352abeac",
   "metadata": {},
   "outputs": [],
   "source": []
  },
  {
   "cell_type": "code",
   "execution_count": 177,
   "id": "f6242a70",
   "metadata": {},
   "outputs": [],
   "source": [
    "X_1 = df_sales[['Gender', 'Age','Occupation','City_Category','Marital_Status','Product_Category_1','Product_Category_2',\n",
    "                'Product_Category_3']]\n",
    "y_1 = df_sales['Purchase']\n"
   ]
  },
  {
   "cell_type": "code",
   "execution_count": 178,
   "id": "93e2fda7",
   "metadata": {},
   "outputs": [],
   "source": [
    "X_1_train,X_1_test,y_1_train,y_1_test = train_test_split(X_1,y_1,random_state=10,test_size=0.3)"
   ]
  },
  {
   "cell_type": "code",
   "execution_count": 179,
   "id": "b810e356",
   "metadata": {},
   "outputs": [
    {
     "name": "stdout",
     "output_type": "stream",
     "text": [
      "RMSE on train dataset : 3157.4919953814383\n",
      "RMSE on test set: 3157.4919953814383\n"
     ]
    }
   ],
   "source": [
    "from sklearn.tree import DecisionTreeRegressor\n",
    "\n",
    "from sklearn.metrics import mean_absolute_error,mean_squared_error,r2_score\n",
    "\n",
    "regressor = DecisionTreeRegressor(random_state = 0)  \n",
    "\n",
    "linreg_with_dst = regressor.fit(X_1_train, y_1_train)\n",
    "\n",
    "y_pred2 = linreg_with_dst.predict(X_1_test)\n",
    "\n",
    "print('RMSE on train dataset :', np.sqrt(mean_squared_error(y_1_test,y_pred2)))\n",
    "\n",
    "print('RMSE on test set:', np.sqrt(mean_squared_error(y_1_test,y_pred2)))"
   ]
  },
  {
   "cell_type": "code",
   "execution_count": 180,
   "id": "b4c927a3",
   "metadata": {},
   "outputs": [
    {
     "name": "stdout",
     "output_type": "stream",
     "text": [
      "RMSE for train dataset is :  2573.3199\n",
      "RMSE for test dataset is :  3157.492\n"
     ]
    }
   ],
   "source": [
    "train_pred_1 = linreg_with_dst.predict(X_1_train)\n",
    "mse_train_1 = mean_squared_error(y_1_train, train_pred_1)\n",
    "rmse_train_1 = round(np.sqrt(mse_train_1), 4)\n",
    "print('RMSE for train dataset is : ',rmse_train_1)\n",
    "\n",
    "test_pred_1 = linreg_with_dst.predict(X_1_test)\n",
    "mse_test_1 = mean_squared_error(y_1_test, test_pred_1)\n",
    "rmse_test_1 = round(np.sqrt(mse_test_1), 4)\n",
    "print('RMSE for test dataset is : ',rmse_test_1)\n"
   ]
  },
  {
   "cell_type": "code",
   "execution_count": 181,
   "id": "bc774038",
   "metadata": {},
   "outputs": [
    {
     "data": {
      "text/plain": [
       "0.7376071927209895"
      ]
     },
     "execution_count": 181,
     "metadata": {},
     "output_type": "execute_result"
    }
   ],
   "source": [
    "linreg_with_dst.score(X_1_train, y_1_train)"
   ]
  },
  {
   "cell_type": "code",
   "execution_count": 182,
   "id": "78819c9c",
   "metadata": {},
   "outputs": [
    {
     "data": {
      "text/plain": [
       "array([0.00965087, 0.02621622, 0.04307799, 0.0118331 , 0.01153201,\n",
       "       0.8625401 , 0.01952566, 0.01562405])"
      ]
     },
     "execution_count": 182,
     "metadata": {},
     "output_type": "execute_result"
    }
   ],
   "source": [
    "linreg_with_dst.feature_importances_"
   ]
  },
  {
   "cell_type": "code",
   "execution_count": null,
   "id": "0a7fe667",
   "metadata": {},
   "outputs": [],
   "source": []
  },
  {
   "cell_type": "code",
   "execution_count": null,
   "id": "e5c5f3c3",
   "metadata": {},
   "outputs": [],
   "source": []
  }
 ],
 "metadata": {
  "kernelspec": {
   "display_name": "Python 3",
   "language": "python",
   "name": "python3"
  },
  "language_info": {
   "codemirror_mode": {
    "name": "ipython",
    "version": 3
   },
   "file_extension": ".py",
   "mimetype": "text/x-python",
   "name": "python",
   "nbconvert_exporter": "python",
   "pygments_lexer": "ipython3",
   "version": "3.8.8"
  }
 },
 "nbformat": 4,
 "nbformat_minor": 5
}
